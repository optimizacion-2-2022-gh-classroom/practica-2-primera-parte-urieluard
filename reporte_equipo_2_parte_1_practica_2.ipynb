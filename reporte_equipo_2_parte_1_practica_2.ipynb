{
 "cells": [
  {
   "cell_type": "markdown",
   "id": "0923775d",
   "metadata": {
    "tags": []
   },
   "source": [
    "# Práctica 2 Parte 1"
   ]
  },
  {
   "cell_type": "markdown",
   "id": "8e35a9c6",
   "metadata": {
    "tags": []
   },
   "source": [
    "## Descripción\n",
    "\n",
    "La primera parte consiste en probar el método implementado en la práctica 1 con diferentes experimentos, en este caso lo probaremos con distintas redes. Los ejemplos auxiliares serán utilizados para encontrar errores o áreas de oportunidad de nuestro algoritmo.\n",
    "Consideramos que el único parámetro de nuestro algoritmo es la matriz o grafo en el que trabajaremos para correr Ford-Fulkerson, ya que nuestra función lee la matriz e inmediatamente reconoce los nodos y los arcos para poder calcular el flujo máximo. Por lo que decidimos probar nuestro método con algunos grafos distintos.\n",
    "\n",
    "Para consultar la información de nuestro paquete, vea: [reporte parte 2 práctica 1](https://github.com/optimizacion-2-2022-gh-classroom/practica-1-segunda-parte-LuzVerde23/blob/main/reporte_equipo_2_parte_2_practica_1.ipynb).\n"
   ]
  },
  {
   "cell_type": "code",
   "execution_count": 1,
   "id": "cd4eb525",
   "metadata": {
    "tags": [
     "imports"
    ]
   },
   "outputs": [],
   "source": [
    "import time\n",
    "import pandas as pd\n",
    "import networkx as nx\n",
    "import random\n",
    "#from MaxFlowAeiu.MaxFlowAeiu import MaxFlowAeiu\n",
    "from MaxFlowAeiu import MaxFlowAeiu"
   ]
  },
  {
   "cell_type": "markdown",
   "id": "6a86a2e8",
   "metadata": {
    "tags": []
   },
   "source": [
    "## Ejemplo 1\n",
    "Para comenzar usaremos el ejemplo de la práctica uno"
   ]
  },
  {
   "cell_type": "code",
   "execution_count": 2,
   "id": "a3101edd",
   "metadata": {
    "tags": [
     "block:read1"
    ]
   },
   "outputs": [],
   "source": [
    "url_d = \"https://raw.githubusercontent.com/optimizacion-2-2022-gh-classroom/practica-2-primera-parte-urieluard/main/BD/d.csv\"\n",
    "d = pd.read_csv(url_d,header=None)"
   ]
  },
  {
   "cell_type": "code",
   "execution_count": 3,
   "id": "6c103a81",
   "metadata": {
    "tags": [
     "block:ls1",
     "prev:read1"
    ]
   },
   "outputs": [],
   "source": [
    "arreglo = d.values.tolist()"
   ]
  },
  {
   "cell_type": "code",
   "execution_count": 4,
   "id": "2249eb3c",
   "metadata": {
    "tags": [
     "block:define1",
     "prev:ls1"
    ]
   },
   "outputs": [],
   "source": [
    "MF=MaxFlowAeiu(arreglo)"
   ]
  },
  {
   "cell_type": "code",
   "execution_count": 5,
   "id": "523bb330",
   "metadata": {
    "tags": [
     "block:print1",
     "prev:define1"
    ]
   },
   "outputs": [
    {
     "name": "stdout",
     "output_type": "stream",
     "text": [
      "CPU times: user 50 µs, sys: 0 ns, total: 50 µs\n",
      "Wall time: 60.1 µs\n",
      "The maximum flow in this network is 1480.0\n"
     ]
    }
   ],
   "source": [
    "%time\n",
    "print(\"The maximum flow in this network is {}\".format(MF.ford_fulkerson()))"
   ]
  },
  {
   "cell_type": "markdown",
   "id": "66d0bc2c",
   "metadata": {},
   "source": [
    "Al ejecutar este ejemplo en el ambiente virtual (instancia de AWS) y monitorear el flujo de trabajo, obtenemos el siguiente resultado:\n",
    "<p align = \"center\">\n",
    "    <img src=\"images/ejemplo1.png\" width=\"1329\" height=\"911\" />"
   ]
  },
  {
   "cell_type": "markdown",
   "id": "46215830",
   "metadata": {
    "tags": []
   },
   "source": [
    "# Ejemplo 2\n",
    "Seguimos con un ejemplo de menor escala que trata sobre el transporte de personas en una empresa de autobúses"
   ]
  },
  {
   "cell_type": "code",
   "execution_count": 6,
   "id": "9c64bf9c",
   "metadata": {
    "tags": [
     "block:read2"
    ]
   },
   "outputs": [],
   "source": [
    "d2 = [[0,188,240,160,0,0,0,0,0,0,0,0,0],\n",
    "                    [0,0,0,0,170,0,0,0,0,0,0,0,0],\n",
    "                    [0,0,0,0,0,0,210,180,0,0,0,0,0],\n",
    "                    [0,0,0,0,0,140,0,0,0,0,0,0,0],\n",
    "                    [0,0,0,0,0,0,0,0,0,130,90,0,0],\n",
    "                    [0,0,0,0,0,0,0,0,130,0,0,0,0],\n",
    "                    [0,0,0,0,0,0,0,0,150,0,0,0,0],\n",
    "                    [0,0,0,0,0,0,0,0,0,0,0,160,0],\n",
    "                    [0,0,0,0,0,0,0,0,0,0,0,0,210],\n",
    "                    [0,0,0,0,0,0,0,0,0,0,0,0,110],\n",
    "                    [0,0,0,0,0,0,0,0,0,0,0,0,80],\n",
    "                    [0,0,0,0,0,0,0,0,0,0,0,0,170],\n",
    "                    [0,0,0,0,0,0,0,0,0,0,0,0,0]]\n"
   ]
  },
  {
   "cell_type": "code",
   "execution_count": 7,
   "id": "bc91c6ef",
   "metadata": {
    "tags": [
     "block:ls2",
     "prev:read2"
    ]
   },
   "outputs": [],
   "source": [
    "arreglo2 = d2"
   ]
  },
  {
   "cell_type": "code",
   "execution_count": 8,
   "id": "3f97c151",
   "metadata": {
    "tags": [
     "block:define2",
     "prev:ls2"
    ]
   },
   "outputs": [],
   "source": [
    "MF2=MaxFlowAeiu(arreglo2)"
   ]
  },
  {
   "cell_type": "code",
   "execution_count": 9,
   "id": "700e568c",
   "metadata": {
    "tags": [
     "block:print2",
     "prev:define2"
    ]
   },
   "outputs": [
    {
     "name": "stdout",
     "output_type": "stream",
     "text": [
      "CPU times: user 7 µs, sys: 1 µs, total: 8 µs\n",
      "Wall time: 14.5 µs\n",
      "The maximum flow in this network is 540\n"
     ]
    }
   ],
   "source": [
    "%time\n",
    "print(\"The maximum flow in this network is {}\".format(MF2.ford_fulkerson()))"
   ]
  },
  {
   "cell_type": "markdown",
   "id": "77cfad7d",
   "metadata": {
    "tags": []
   },
   "source": [
    "## Ejemplo 3\n",
    "Ahora probaremos con una matriz más grande sobre el transporte de pasajeros en aerolíneas en Estados Unidos"
   ]
  },
  {
   "cell_type": "code",
   "execution_count": 10,
   "id": "f6ef684e",
   "metadata": {
    "tags": [
     "block:read3"
    ]
   },
   "outputs": [],
   "source": [
    "d3=pd.read_csv(\"https://raw.githubusercontent.com/sid-7/Airline_Maximum_Flow/master/flights.csv\")\n",
    "d3=d3.drop(['Unnamed: 0', 'Depature', 'Arrival'], axis=1)\n",
    "d3=d3.groupby(['Source', 'Destination'], as_index=False)['capacity'].sum()\n",
    "d3['capacity'] = pd.to_numeric(d3['capacity'], errors='coerce')\n",
    "new_row = pd.DataFrame([['JFK','JFK', 0], ['LAX','LAX', 0]],\n",
    "                   columns=['Source', 'Destination', 'capacity'])\n",
    "d3 = pd.concat([d3, new_row])\n",
    "d3 = d3.pivot(index=\"Source\", columns=\"Destination\", values=\"capacity\").fillna(0)\n",
    "column_to_move1 = d3.pop(\"LAX\")\n",
    "column_to_move2 = d3.pop(\"JFK\")\n",
    "d3.insert(0, \"LAX\", column_to_move1)\n",
    "d3.insert(9, \"JFK\", column_to_move2)\n",
    "t1 = ['JFK','LAX']\n",
    "t2 = ['JFK']\n",
    "t3 = ['LAX']\n",
    "\n",
    "a = d3.loc[[i for i in d3.index if i not in t1], :]\n",
    "b = d3.loc[t2, :]\n",
    "c = d3.loc[t3, :]\n",
    "\n",
    "d3=pd.concat([c, a, b])"
   ]
  },
  {
   "cell_type": "code",
   "execution_count": 11,
   "id": "3ccd1fa9",
   "metadata": {
    "tags": [
     "block:list3",
     "prev:read3"
    ]
   },
   "outputs": [],
   "source": [
    "arreglo3 = d3.values.tolist()"
   ]
  },
  {
   "cell_type": "code",
   "execution_count": 12,
   "id": "29b167a4",
   "metadata": {
    "tags": [
     "block:define3",
     "prev:list3"
    ]
   },
   "outputs": [],
   "source": [
    "MF3=MaxFlowAeiu(arreglo3)"
   ]
  },
  {
   "cell_type": "code",
   "execution_count": 13,
   "id": "236d65dd",
   "metadata": {
    "tags": [
     "block:print3",
     "prev:define3"
    ]
   },
   "outputs": [
    {
     "name": "stdout",
     "output_type": "stream",
     "text": [
      "CPU times: user 7 µs, sys: 1e+03 ns, total: 8 µs\n",
      "Wall time: 16 µs\n",
      "The maximum flow in this network is 6427.0\n"
     ]
    }
   ],
   "source": [
    "%time\n",
    "print(\"The maximum flow in this network is {}\".format(MF3.ford_fulkerson()))"
   ]
  },
  {
   "cell_type": "markdown",
   "id": "ce716b8b",
   "metadata": {
    "tags": []
   },
   "source": [
    "## Ejemplo 4\n",
    "Ahora usaremos una matriz mucho más grande"
   ]
  },
  {
   "cell_type": "code",
   "execution_count": 14,
   "id": "5d6d99ef",
   "metadata": {
    "tags": [
     "block:par4"
    ]
   },
   "outputs": [],
   "source": [
    "# Especificar el tamaño de la red n = número de nodos, m = número de ramas\n",
    "n = 1000\n",
    "m = 5000\n",
    "network = nx.gnm_random_graph(n, m, directed=True)\n",
    "nodos = list(network.nodes)\n",
    "ramas = list(network.edges)\n",
    "# Crear arreglos de: nodo de envío, nodo de recepción y capacidad del enlace\n",
    "env = []\n",
    "rec = []\n",
    "cap = []\n",
    "for i in range(len(ramas)):\n",
    "    env.append(ramas[i][0])\n",
    "    rec.append(ramas[i][1])\n",
    "    cap.append(random.randint(20,100)) # La capacidad del enlace se determinade forma aleatoria con valores entre 20 y 100"
   ]
  },
  {
   "cell_type": "code",
   "execution_count": 15,
   "id": "ae9e4ceb",
   "metadata": {
    "tags": [
     "block:read4",
     "prev:par4"
    ]
   },
   "outputs": [],
   "source": [
    "# Se crea el data frame o matriz de incidencias de los nodos. Se asegura que el nodo fuente sea el 0 y solo tenga ramas saliendo de él y que el último nodo solo tenga ramas entrando (sumidero)\n",
    "d4 = pd.DataFrame(0, index=list(range(0,len(nodos))), columns=list(range(0,len(nodos))))\n",
    "aux = 0\n",
    "for n in env:\n",
    "    if rec[aux] == 0:\n",
    "        d4.iloc[rec[aux],n] = cap[aux]\n",
    "    elif n == max(nodos):\n",
    "        d4.iloc[rec[aux],n] = cap[aux]\n",
    "    else:\n",
    "        d4.iloc[n,rec[aux]] = cap[aux]\n",
    "    aux += 1"
   ]
  },
  {
   "cell_type": "code",
   "execution_count": 16,
   "id": "6d51b599",
   "metadata": {
    "tags": [
     "block:ls4",
     "prev:read4"
    ]
   },
   "outputs": [],
   "source": [
    "arreglo4 = d4.values.tolist()"
   ]
  },
  {
   "cell_type": "code",
   "execution_count": 17,
   "id": "f6afb445",
   "metadata": {
    "tags": [
     "block:define4",
     "prev:ls4"
    ]
   },
   "outputs": [],
   "source": [
    "MF4=MaxFlowAeiu(arreglo4)"
   ]
  },
  {
   "cell_type": "code",
   "execution_count": 18,
   "id": "5b3462f7",
   "metadata": {
    "tags": [
     "block:print4",
     "prev:define4"
    ]
   },
   "outputs": [
    {
     "name": "stdout",
     "output_type": "stream",
     "text": [
      "CPU times: user 7 µs, sys: 1 µs, total: 8 µs\n",
      "Wall time: 13.8 µs\n",
      "The maximum flow in this network is 567\n"
     ]
    }
   ],
   "source": [
    "%time\n",
    "print(\"The maximum flow in this network is {}\".format(MF4.ford_fulkerson()))"
   ]
  },
  {
   "cell_type": "markdown",
   "id": "c1418494",
   "metadata": {},
   "source": [
    "## Reporte de resultados\n",
    "\n",
    "La realización de estos 4 ejercicios se hizo en un ambiente virtual (instancia de AWS) con las herramientas de Kale, Minikube y Kubeflow. En la siguiente imagen se muestra el pipeline ejecutado con los cuatro ejemplos corriendo de manera satisfactoria:"
   ]
  },
  {
   "cell_type": "markdown",
   "id": "e3e8991b",
   "metadata": {},
   "source": [
    "<p align = \"center\">\n",
    "    <img src=\"images/LAHM_kale_ec2-44-204-141-137.png\" width=\"1329\" height=\"911\" />"
   ]
  },
  {
   "cell_type": "markdown",
   "id": "de8f8915",
   "metadata": {},
   "source": [
    "Adicionalmente se realizó la misma ejecución de los 4 ejercicios, pero en el ambiente virtual generado para este repositorio desde la funcionalidad de _Binder_. En la siguiente tabla se muestran los resultados obtenidos en ambas ejecuciones:"
   ]
  },
  {
   "cell_type": "code",
   "execution_count": 19,
   "id": "f73e0ba6",
   "metadata": {},
   "outputs": [
    {
     "data": {
      "text/html": [
       "<div>\n",
       "<style scoped>\n",
       "    .dataframe tbody tr th:only-of-type {\n",
       "        vertical-align: middle;\n",
       "    }\n",
       "\n",
       "    .dataframe tbody tr th {\n",
       "        vertical-align: top;\n",
       "    }\n",
       "\n",
       "    .dataframe thead th {\n",
       "        text-align: right;\n",
       "    }\n",
       "</style>\n",
       "<table border=\"1\" class=\"dataframe\">\n",
       "  <thead>\n",
       "    <tr style=\"text-align: right;\">\n",
       "      <th></th>\n",
       "      <th>Experimento</th>\n",
       "      <th>Tamaño_Red</th>\n",
       "      <th>Nodos</th>\n",
       "      <th>Ramas</th>\n",
       "      <th>Flujo_Max</th>\n",
       "      <th>Exitoso</th>\n",
       "      <th>CPU_Time_(ms)</th>\n",
       "      <th>Wall_Time_(ms)</th>\n",
       "      <th>Fecha</th>\n",
       "      <th>Instancia</th>\n",
       "    </tr>\n",
       "  </thead>\n",
       "  <tbody>\n",
       "    <tr>\n",
       "      <th>0</th>\n",
       "      <td>1</td>\n",
       "      <td>Mediana</td>\n",
       "      <td>44</td>\n",
       "      <td>61</td>\n",
       "      <td>1480</td>\n",
       "      <td>Si</td>\n",
       "      <td>4.650</td>\n",
       "      <td>7.6800</td>\n",
       "      <td>22-04-2022</td>\n",
       "      <td>AWS</td>\n",
       "    </tr>\n",
       "    <tr>\n",
       "      <th>1</th>\n",
       "      <td>1</td>\n",
       "      <td>Mediana</td>\n",
       "      <td>44</td>\n",
       "      <td>61</td>\n",
       "      <td>1480</td>\n",
       "      <td>Si</td>\n",
       "      <td>0.007</td>\n",
       "      <td>0.0141</td>\n",
       "      <td>23-04-2022</td>\n",
       "      <td>Binder</td>\n",
       "    </tr>\n",
       "    <tr>\n",
       "      <th>2</th>\n",
       "      <td>2</td>\n",
       "      <td>Pequeña</td>\n",
       "      <td>13</td>\n",
       "      <td>16</td>\n",
       "      <td>540</td>\n",
       "      <td>Si</td>\n",
       "      <td>3.370</td>\n",
       "      <td>3.1500</td>\n",
       "      <td>22-04-2022</td>\n",
       "      <td>AWS</td>\n",
       "    </tr>\n",
       "    <tr>\n",
       "      <th>3</th>\n",
       "      <td>2</td>\n",
       "      <td>Pequeña</td>\n",
       "      <td>13</td>\n",
       "      <td>16</td>\n",
       "      <td>540</td>\n",
       "      <td>Si</td>\n",
       "      <td>0.006</td>\n",
       "      <td>0.0119</td>\n",
       "      <td>23-04-2022</td>\n",
       "      <td>Binder</td>\n",
       "    </tr>\n",
       "    <tr>\n",
       "      <th>4</th>\n",
       "      <td>3</td>\n",
       "      <td>Pequeña</td>\n",
       "      <td>10</td>\n",
       "      <td>72</td>\n",
       "      <td>6427</td>\n",
       "      <td>Si</td>\n",
       "      <td>7.510</td>\n",
       "      <td>5.6200</td>\n",
       "      <td>22-04-2022</td>\n",
       "      <td>AWS</td>\n",
       "    </tr>\n",
       "    <tr>\n",
       "      <th>5</th>\n",
       "      <td>3</td>\n",
       "      <td>Pequeña</td>\n",
       "      <td>10</td>\n",
       "      <td>72</td>\n",
       "      <td>6427</td>\n",
       "      <td>Si</td>\n",
       "      <td>0.007</td>\n",
       "      <td>0.0129</td>\n",
       "      <td>23-04-2022</td>\n",
       "      <td>Binder</td>\n",
       "    </tr>\n",
       "    <tr>\n",
       "      <th>6</th>\n",
       "      <td>4</td>\n",
       "      <td>Grande</td>\n",
       "      <td>1000</td>\n",
       "      <td>5000</td>\n",
       "      <td>643</td>\n",
       "      <td>Si</td>\n",
       "      <td>26000.000</td>\n",
       "      <td>26000.0000</td>\n",
       "      <td>22-04-2022</td>\n",
       "      <td>AWS</td>\n",
       "    </tr>\n",
       "    <tr>\n",
       "      <th>7</th>\n",
       "      <td>4</td>\n",
       "      <td>Grande</td>\n",
       "      <td>1000</td>\n",
       "      <td>5000</td>\n",
       "      <td>513</td>\n",
       "      <td>Si</td>\n",
       "      <td>0.006</td>\n",
       "      <td>0.0122</td>\n",
       "      <td>23-04-2022</td>\n",
       "      <td>Binder</td>\n",
       "    </tr>\n",
       "  </tbody>\n",
       "</table>\n",
       "</div>"
      ],
      "text/plain": [
       "   Experimento Tamaño_Red  Nodos  Ramas  Flujo_Max Exitoso  CPU_Time_(ms)  \\\n",
       "0            1    Mediana     44     61       1480      Si          4.650   \n",
       "1            1    Mediana     44     61       1480      Si          0.007   \n",
       "2            2    Pequeña     13     16        540      Si          3.370   \n",
       "3            2    Pequeña     13     16        540      Si          0.006   \n",
       "4            3    Pequeña     10     72       6427      Si          7.510   \n",
       "5            3    Pequeña     10     72       6427      Si          0.007   \n",
       "6            4     Grande   1000   5000        643      Si      26000.000   \n",
       "7            4     Grande   1000   5000        513      Si          0.006   \n",
       "\n",
       "   Wall_Time_(ms)       Fecha Instancia  \n",
       "0          7.6800  22-04-2022       AWS  \n",
       "1          0.0141  23-04-2022    Binder  \n",
       "2          3.1500  22-04-2022       AWS  \n",
       "3          0.0119  23-04-2022    Binder  \n",
       "4          5.6200  22-04-2022       AWS  \n",
       "5          0.0129  23-04-2022    Binder  \n",
       "6      26000.0000  22-04-2022       AWS  \n",
       "7          0.0122  23-04-2022    Binder  "
      ]
     },
     "execution_count": 19,
     "metadata": {},
     "output_type": "execute_result"
    }
   ],
   "source": [
    "results = {\n",
    "    'Experimento' : [1, 1, 2, 2, 3, 3, 4, 4],\n",
    "    'Tamaño_Red': [\"Mediana\", \"Mediana\", \"Pequeña\", \"Pequeña\", \"Pequeña\", \"Pequeña\", \"Grande\", \"Grande\" ],\n",
    "    'Nodos': [44, 44, 13, 13, 10, 10, 1000, 1000],\n",
    "    'Ramas': [61, 61, 16, 16, 72, 72, 5000, 5000],\n",
    "    'Flujo_Max': [1480, 1480, 540, 540, 6427, 6427, 643, 513],\n",
    "    'Exitoso': ['Si', 'Si', 'Si', 'Si', 'Si', 'Si', 'Si', 'Si'],\n",
    "    'CPU_Time_(ms)': [4.65, 7e-3, 3.37, 6e-3, 7.51, 7e-3, 26e3, 6e-3],\n",
    "    'Wall_Time_(ms)': [7.68, 14.1e-3, 3.15, 11.9e-3, 5.62, 12.9e-3, 26e3, 12.2e-3],\n",
    "    'Fecha': [\"22-04-2022\", \"23-04-2022\", \"22-04-2022\", \"23-04-2022\", \"22-04-2022\", \"23-04-2022\", \"22-04-2022\", \"23-04-2022\"],\n",
    "    'Instancia': [\"AWS\", \"Binder\", \"AWS\", \"Binder\", \"AWS\", \"Binder\", \"AWS\", \"Binder\"]\n",
    "}\n",
    "r = pd.DataFrame(results)\n",
    "r"
   ]
  },
  {
   "cell_type": "markdown",
   "id": "a6f0d6fa",
   "metadata": {},
   "source": [
    "## Reimplementación\n",
    "\n",
    "Como se menciona en la primera parte de este reporte (Descripción), las pruebas que se realizaron para comprobar el correcto funcionamiento del algoritmo implementado consisten únicamente en comprobar con diferentes redes, encontrando que en todos los casos se logró encontrar el flujo máximo. En este sentido, no se vió la necesidad de hacer una reimplementación del método en cuanto al algoritmo. Sin embargo, para ejemplificar la utilización de las herramientas que se han revisado e implementado en estas 2 prácticas, se adiciona una función adicional a nuestro algoritmo _MaxFlowAeiu_ que cuenta el número de nodos y ramas que tiene la red. Esta nueva funcionalidad se actualiza en la documentación y se vuelve a ejecutar el pipeline completo para validar que sigue ejecutandose de manera exitosa y que la nueva implementación funciona adecuadamente. En la imagen siguiente se muestra el resultado de esta reimplementación:"
   ]
  },
  {
   "cell_type": "markdown",
   "id": "03f47063-1df5-4a9b-9326-61733862a07e",
   "metadata": {},
   "source": [
    "Veamos la información del primer ejemplo."
   ]
  },
  {
   "cell_type": "code",
   "execution_count": 20,
   "id": "38539974-3a71-4453-90af-2055052bb621",
   "metadata": {},
   "outputs": [
    {
     "name": "stdout",
     "output_type": "stream",
     "text": [
      "CPU times: user 8 µs, sys: 0 ns, total: 8 µs\n",
      "Wall time: 16.5 µs\n",
      "nodos 44\n",
      "ramas 84\n"
     ]
    }
   ],
   "source": [
    "%time\n",
    "MF.infoMF()"
   ]
  },
  {
   "cell_type": "markdown",
   "id": "ba2a5e93-eece-4828-aa80-5d1a09dda789",
   "metadata": {},
   "source": [
    "Podemos ver que nuestro ejemplo 1 tiene 44 nodos y 84 arcos. Consideramos que esta información es una aportación útil al método ya que pueden existir ocasiones en que querramos ver si la información con la que contamos correrá de forma rápida, como es en este caso, o se tardará más tiempo en caso de tener una matriz muy conectada, como lo es el caso del ejemplo 4:"
   ]
  },
  {
   "cell_type": "code",
   "execution_count": 21,
   "id": "bd01674c-f764-4097-88fe-2b9642573074",
   "metadata": {},
   "outputs": [
    {
     "name": "stdout",
     "output_type": "stream",
     "text": [
      "CPU times: user 7 µs, sys: 0 ns, total: 7 µs\n",
      "Wall time: 14.3 µs\n",
      "nodos 1000\n",
      "ramas 5073\n"
     ]
    }
   ],
   "source": [
    "%time\n",
    "MF4.infoMF()"
   ]
  },
  {
   "cell_type": "markdown",
   "id": "4e7d0de1",
   "metadata": {},
   "source": [
    "<p align = \"center\">\n",
    "    <img src=\"images/LAHM_kale_ec2-44-204-141-137.png\" width=\"1329\" height=\"911\" />"
   ]
  },
  {
   "cell_type": "markdown",
   "id": "808f4fb2",
   "metadata": {
    "tags": []
   },
   "source": [
    "## Conclusiones\n",
    "\n",
    "En el experimento ejecutado en la instancia de AWS vemos que el desempeño de nuestro algoritmo da buenos resultados en cuanto a tiempo de ejecución. En los primeros 3 ejemplos fue casi imperceptible, del orden de los milisegundos (ms), para el ejemplo con una red de 1000 nodos con 5000 arcos tomó 26 segundos en obtener el flujo máximo, lo cual sigue siendo bueno. En todos los casos se obtuvo una solución de flujo máximo, por lo tanto fueron ejecuciones exitosas.\n",
    "\n",
    "Notamos una diferencia notoria en los timepos de ejecución del experimento en la instancia creada desde Binder, en la cual los tiempos de ejecución se reducen notablemente, llegando al orden de los microsegundos, incluso para la red más grande que se trabajó (1000 nodos y 5000 ramas). Cabe resaltar que los resultados que obtiene el método, tanto en el experimento ejecutado en AWS como en Binder, son iguales para las redes que son definidas (ejemplos 1 a 3), pero se obtiene un resultado diferente para la red \"grande\", ya que se genera de manera aleatoria y por lo tanto la solución va a cambiar dependiendo de la semilla que se tenga en cada instancia.\n",
    "\n",
    "A futuro, consideramos que nos hizo falta poder hacer uso de la librería `numpy` (como lo hicimos en la práctica 1 y en nuestra imagen de manera local), pero en el ambiente de `kale`siempre nos marcó un error cuando intentábamos usar algunos módulos de dicha librería. Creemos que es un tema de las versiones, así que esperamos poder encontrar la solución para la parte 2 de la práctica. Ejemplo:\n"
   ]
  },
  {
   "cell_type": "markdown",
   "id": "ad86b860-2295-4894-b750-bb2627f2220f",
   "metadata": {},
   "source": [
    "<p align = \"center\">\n",
    "    <img src=\"https://files.gitter.im/620bf57c6da0373984906852/M3CK/Screen-Shot-2022-04-21-at-11.23.44.png\" width=\"1329\" height=\"911\" />\n"
   ]
  },
  {
   "cell_type": "markdown",
   "id": "3543f427",
   "metadata": {
    "tags": []
   },
   "source": [
    "## Referencias\n",
    "* [1] [Palacios E. (2022) Libro de Optimización](https://itam-ds.github.io/analisis-numerico-computo-cientifico/4.optimizacion_en_redes_y_prog_lineal/4.2/Definiciones_generales_de_flujo_en_redes.html)\n",
    "* [2] [Dumora c. el all. Data Oriented Algorithm for Real Time Estimation of Flow Rates and Flow Directions in Water Distribution Network](https://arxiv.org/pdf/1807.10147.pdf)\n",
    "* [3] [Max Flow Problem Introduction](https://www.geeksforgeeks.org/max-flow-problem-introduction/)\n",
    "* [4] [Ford-Fulkerson Algorithm](https://www.programiz.com/dsa/ford-fulkerson-algorithm)\n",
    "* [5] [Algoritmo de Ford-Fulkerson - Ford–Fulkerson algorithm](https://upwikies.top/wiki/Ford%e2%80%93Fulkerson_algorithm)\n",
    "* [6] [Oviedo J. (2008) Algoritmo de Ford-Fulkerson Mejorado](http://www.ptolomeo.unam.mx:8080/jspui/bitstream/132.248.52.100/2387/1/gonzalezoviedo.pdf)\n",
    "* [7] [Building a Smarter (and Cheaper) School Bus System: How a Boston-MIT Partnership Led to New Routes That Are 20% More Efficient and Saved the District $5 Million](https://www.the74million.org/article/building-a-smarter-and-cheaper-school-bus-system-how-a-boston-mit-partnership-led-to-new-routes-that-are-20-more-efficient-use-400-fewer-buses-save-5-million/)\n",
    "* [8] [Optimazation examples](https://vitalflux.com/convex-optimization-explained-concepts-examples/)\n",
    "* [9] [Breadth First Search or BFS for a Graph](https://www.geeksforgeeks.org/breadth-first-search-or-bfs-for-a-graph/)\n",
    "* [10] [Create your own Python package and publish it into PyPI](https://towardsdatascience.com/create-your-own-python-package-and-publish-it-into-pypi-9306a29bc116)"
   ]
  }
 ],
 "metadata": {
  "kernelspec": {
   "display_name": "Python 3 (ipykernel)",
   "language": "python",
   "name": "python3"
  },
  "kubeflow_notebook": {
   "autosnapshot": false,
   "docker_image": "sancas96/docker_t2:0.1",
   "experiment": {
    "id": "new",
    "name": "probando"
   },
   "experiment_name": "probando",
   "katib_metadata": {
    "algorithm": {
     "algorithmName": "grid"
    },
    "maxFailedTrialCount": 3,
    "maxTrialCount": 12,
    "objective": {
     "objectiveMetricName": "",
     "type": "minimize"
    },
    "parallelTrialCount": 3,
    "parameters": []
   },
   "katib_run": false,
   "pipeline_description": "testing_mfaeiu_v1",
   "pipeline_name": "prueba1",
   "snapshot_volumes": false,
   "steps_defaults": [],
   "volume_access_mode": "rwm",
   "volumes": []
  },
  "language_info": {
   "codemirror_mode": {
    "name": "ipython",
    "version": 3
   },
   "file_extension": ".py",
   "mimetype": "text/x-python",
   "name": "python",
   "nbconvert_exporter": "python",
   "pygments_lexer": "ipython3",
   "version": "3.8.10"
  }
 },
 "nbformat": 4,
 "nbformat_minor": 5
}
