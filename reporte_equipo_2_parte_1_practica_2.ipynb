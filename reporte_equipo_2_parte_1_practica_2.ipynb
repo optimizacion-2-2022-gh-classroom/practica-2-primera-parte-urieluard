{
 "cells": [
  {
   "cell_type": "markdown",
   "id": "34cb8ccb",
   "metadata": {
    "tags": []
   },
   "source": [
    "# Práctica 2 Parte 1"
   ]
  },
  {
   "cell_type": "markdown",
   "id": "f8fc64af",
   "metadata": {
    "tags": []
   },
   "source": [
    "La primera parte consiste en probar el método implementado en la práctica 1 con diferentes experimentos, en este caso lo probaremos con distintas redes y hacerlo más robusto. Los ejemplos auxiliares serán utilizados para encontrar errores o áreas de oportunidad de nuestro algoritmo.\n",
    "\n",
    "Para consultar la información de nuestro paquete, vea: [reporte parte 2 práctica 1](https://github.com/optimizacion-2-2022-gh-classroom/practica-1-segunda-parte-LuzVerde23/blob/main/reporte_equipo_2_parte_2_practica_1.ipynb).\n"
   ]
  },
  {
   "cell_type": "code",
   "execution_count": 2,
   "id": "4660e907",
   "metadata": {
    "tags": [
     "imports"
    ]
   },
   "outputs": [],
   "source": [
    "import pandas as pd\n",
    "import numpy as np\n",
    "#import kale\n",
    "from MaxFlowAeiu import MaxFlowAeiu\n",
    "import time"
   ]
  },
  {
   "cell_type": "markdown",
   "id": "eb569323-71b1-41ca-bf86-6b426ebbf73d",
   "metadata": {},
   "source": [
    "## Ejemplo 1\n",
    "Para comenzar usaremos el ejemplo de la práctica uno"
   ]
  },
  {
   "cell_type": "code",
   "execution_count": 8,
   "id": "c869d91a",
   "metadata": {},
   "outputs": [],
   "source": [
    "url_d = \"https://raw.githubusercontent.com/optimizacion-2-2022-gh-classroom/practica-2-primera-parte-urieluard/main/BD/d.csv\"\n",
    "#https://github.com/optimizacion-2-2022-gh-classroom/practica-2-primera-parte-urieluard/blob/main/BD/d.csv"
   ]
  },
  {
   "cell_type": "code",
   "execution_count": 9,
   "id": "0ee3fb88",
   "metadata": {
    "tags": [
     "block:read"
    ]
   },
   "outputs": [],
   "source": [
    "d = pd.read_csv(url_d,header=None)"
   ]
  },
  {
   "cell_type": "code",
   "execution_count": 10,
   "id": "2aa3baf8",
   "metadata": {},
   "outputs": [
    {
     "data": {
      "text/html": [
       "<div>\n",
       "<style scoped>\n",
       "    .dataframe tbody tr th:only-of-type {\n",
       "        vertical-align: middle;\n",
       "    }\n",
       "\n",
       "    .dataframe tbody tr th {\n",
       "        vertical-align: top;\n",
       "    }\n",
       "\n",
       "    .dataframe thead th {\n",
       "        text-align: right;\n",
       "    }\n",
       "</style>\n",
       "<table border=\"1\" class=\"dataframe\">\n",
       "  <thead>\n",
       "    <tr style=\"text-align: right;\">\n",
       "      <th></th>\n",
       "      <th>0</th>\n",
       "      <th>1</th>\n",
       "      <th>2</th>\n",
       "      <th>3</th>\n",
       "      <th>4</th>\n",
       "      <th>5</th>\n",
       "      <th>6</th>\n",
       "      <th>7</th>\n",
       "      <th>8</th>\n",
       "      <th>9</th>\n",
       "      <th>...</th>\n",
       "      <th>34</th>\n",
       "      <th>35</th>\n",
       "      <th>36</th>\n",
       "      <th>37</th>\n",
       "      <th>38</th>\n",
       "      <th>39</th>\n",
       "      <th>40</th>\n",
       "      <th>41</th>\n",
       "      <th>42</th>\n",
       "      <th>43</th>\n",
       "    </tr>\n",
       "  </thead>\n",
       "  <tbody>\n",
       "    <tr>\n",
       "      <th>0</th>\n",
       "      <td>0.0</td>\n",
       "      <td>2000.0</td>\n",
       "      <td>0.0</td>\n",
       "      <td>2000.0</td>\n",
       "      <td>0.0</td>\n",
       "      <td>0.0</td>\n",
       "      <td>0.0</td>\n",
       "      <td>0.0</td>\n",
       "      <td>0.0</td>\n",
       "      <td>0.0</td>\n",
       "      <td>...</td>\n",
       "      <td>0.0</td>\n",
       "      <td>0.0</td>\n",
       "      <td>0.0</td>\n",
       "      <td>0.0</td>\n",
       "      <td>0.0</td>\n",
       "      <td>0.0</td>\n",
       "      <td>0.0</td>\n",
       "      <td>0.0</td>\n",
       "      <td>0.0</td>\n",
       "      <td>0.0</td>\n",
       "    </tr>\n",
       "    <tr>\n",
       "      <th>1</th>\n",
       "      <td>0.0</td>\n",
       "      <td>0.0</td>\n",
       "      <td>535.0</td>\n",
       "      <td>265.0</td>\n",
       "      <td>0.0</td>\n",
       "      <td>0.0</td>\n",
       "      <td>0.0</td>\n",
       "      <td>0.0</td>\n",
       "      <td>0.0</td>\n",
       "      <td>0.0</td>\n",
       "      <td>...</td>\n",
       "      <td>0.0</td>\n",
       "      <td>0.0</td>\n",
       "      <td>0.0</td>\n",
       "      <td>0.0</td>\n",
       "      <td>0.0</td>\n",
       "      <td>0.0</td>\n",
       "      <td>0.0</td>\n",
       "      <td>0.0</td>\n",
       "      <td>0.0</td>\n",
       "      <td>0.0</td>\n",
       "    </tr>\n",
       "    <tr>\n",
       "      <th>2</th>\n",
       "      <td>0.0</td>\n",
       "      <td>0.0</td>\n",
       "      <td>0.0</td>\n",
       "      <td>0.0</td>\n",
       "      <td>0.0</td>\n",
       "      <td>0.0</td>\n",
       "      <td>0.0</td>\n",
       "      <td>0.0</td>\n",
       "      <td>0.0</td>\n",
       "      <td>0.0</td>\n",
       "      <td>...</td>\n",
       "      <td>0.0</td>\n",
       "      <td>0.0</td>\n",
       "      <td>0.0</td>\n",
       "      <td>0.0</td>\n",
       "      <td>0.0</td>\n",
       "      <td>0.0</td>\n",
       "      <td>0.0</td>\n",
       "      <td>0.0</td>\n",
       "      <td>0.0</td>\n",
       "      <td>0.0</td>\n",
       "    </tr>\n",
       "    <tr>\n",
       "      <th>3</th>\n",
       "      <td>0.0</td>\n",
       "      <td>0.0</td>\n",
       "      <td>600.0</td>\n",
       "      <td>0.0</td>\n",
       "      <td>1200.0</td>\n",
       "      <td>0.0</td>\n",
       "      <td>0.0</td>\n",
       "      <td>0.0</td>\n",
       "      <td>0.0</td>\n",
       "      <td>0.0</td>\n",
       "      <td>...</td>\n",
       "      <td>0.0</td>\n",
       "      <td>0.0</td>\n",
       "      <td>0.0</td>\n",
       "      <td>0.0</td>\n",
       "      <td>0.0</td>\n",
       "      <td>0.0</td>\n",
       "      <td>0.0</td>\n",
       "      <td>0.0</td>\n",
       "      <td>0.0</td>\n",
       "      <td>0.0</td>\n",
       "    </tr>\n",
       "    <tr>\n",
       "      <th>4</th>\n",
       "      <td>0.0</td>\n",
       "      <td>0.0</td>\n",
       "      <td>0.0</td>\n",
       "      <td>0.0</td>\n",
       "      <td>0.0</td>\n",
       "      <td>1600.0</td>\n",
       "      <td>0.0</td>\n",
       "      <td>0.0</td>\n",
       "      <td>0.0</td>\n",
       "      <td>0.0</td>\n",
       "      <td>...</td>\n",
       "      <td>0.0</td>\n",
       "      <td>0.0</td>\n",
       "      <td>0.0</td>\n",
       "      <td>0.0</td>\n",
       "      <td>0.0</td>\n",
       "      <td>0.0</td>\n",
       "      <td>0.0</td>\n",
       "      <td>0.0</td>\n",
       "      <td>0.0</td>\n",
       "      <td>0.0</td>\n",
       "    </tr>\n",
       "  </tbody>\n",
       "</table>\n",
       "<p>5 rows × 44 columns</p>\n",
       "</div>"
      ],
      "text/plain": [
       "    0       1      2       3       4       5    6    7    8    9   ...   34  \\\n",
       "0  0.0  2000.0    0.0  2000.0     0.0     0.0  0.0  0.0  0.0  0.0  ...  0.0   \n",
       "1  0.0     0.0  535.0   265.0     0.0     0.0  0.0  0.0  0.0  0.0  ...  0.0   \n",
       "2  0.0     0.0    0.0     0.0     0.0     0.0  0.0  0.0  0.0  0.0  ...  0.0   \n",
       "3  0.0     0.0  600.0     0.0  1200.0     0.0  0.0  0.0  0.0  0.0  ...  0.0   \n",
       "4  0.0     0.0    0.0     0.0     0.0  1600.0  0.0  0.0  0.0  0.0  ...  0.0   \n",
       "\n",
       "    35   36   37   38   39   40   41   42   43  \n",
       "0  0.0  0.0  0.0  0.0  0.0  0.0  0.0  0.0  0.0  \n",
       "1  0.0  0.0  0.0  0.0  0.0  0.0  0.0  0.0  0.0  \n",
       "2  0.0  0.0  0.0  0.0  0.0  0.0  0.0  0.0  0.0  \n",
       "3  0.0  0.0  0.0  0.0  0.0  0.0  0.0  0.0  0.0  \n",
       "4  0.0  0.0  0.0  0.0  0.0  0.0  0.0  0.0  0.0  \n",
       "\n",
       "[5 rows x 44 columns]"
      ]
     },
     "execution_count": 10,
     "metadata": {},
     "output_type": "execute_result"
    }
   ],
   "source": [
    "d.head()"
   ]
  },
  {
   "cell_type": "code",
   "execution_count": 11,
   "id": "a17bba8e",
   "metadata": {
    "tags": [
     "block:numpy_array",
     "prev:read"
    ]
   },
   "outputs": [],
   "source": [
    "# Generamos el arreglo final de tipo \"numpy array\"\n",
    "arreglo = d.to_numpy()"
   ]
  },
  {
   "cell_type": "code",
   "execution_count": 12,
   "id": "ecbcd50b",
   "metadata": {
    "tags": [
     "block:define",
     "prev:numpy_array"
    ]
   },
   "outputs": [
    {
     "name": "stdout",
     "output_type": "stream",
     "text": [
      "CPU times: user 17 µs, sys: 0 ns, total: 17 µs\n",
      "Wall time: 21.5 µs\n"
     ]
    }
   ],
   "source": [
    "%%time\n",
    "MF=MaxFlowAeiu(arreglo)"
   ]
  },
  {
   "cell_type": "code",
   "execution_count": 13,
   "id": "fa1e9843",
   "metadata": {
    "tags": [
     "block:print",
     "prev:define"
    ]
   },
   "outputs": [
    {
     "name": "stdout",
     "output_type": "stream",
     "text": [
      "The maximum flow in this network is 1480.0\n",
      "CPU times: user 3.85 ms, sys: 803 µs, total: 4.65 ms\n",
      "Wall time: 7.68 ms\n"
     ]
    }
   ],
   "source": [
    "%%time\n",
    "print(\"The maximum flow in this network is {}\".format(MF.ford_fulkerson()))"
   ]
  },
  {
   "cell_type": "markdown",
   "id": "b77e627d-98b2-449c-9533-e760c8baaf05",
   "metadata": {},
   "source": [
    "# Ejemplo 2\n",
    "Seguimos con un ejemplo de menor escala que trata sobre el transporte de personas en una empresa de autobúses"
   ]
  },
  {
   "cell_type": "code",
   "execution_count": 6,
   "id": "9c0063cf-7f44-4ba3-87aa-62728069e85b",
   "metadata": {},
   "outputs": [],
   "source": [
    "d2 = [[0,188,240,160,0,0,0,0,0,0,0,0,0],\n",
    "                    [0,0,0,0,170,0,0,0,0,0,0,0,0],\n",
    "                    [0,0,0,0,0,0,210,180,0,0,0,0,0],\n",
    "                    [0,0,0,0,0,140,0,0,0,0,0,0,0],\n",
    "                    [0,0,0,0,0,0,0,0,0,130,90,0,0],\n",
    "                    [0,0,0,0,0,0,0,0,130,0,0,0,0],\n",
    "                    [0,0,0,0,0,0,0,0,150,0,0,0,0],\n",
    "                    [0,0,0,0,0,0,0,0,0,0,0,160,0],\n",
    "                    [0,0,0,0,0,0,0,0,0,0,0,0,210],\n",
    "                    [0,0,0,0,0,0,0,0,0,0,0,0,110],\n",
    "                    [0,0,0,0,0,0,0,0,0,0,0,0,80],\n",
    "                    [0,0,0,0,0,0,0,0,0,0,0,0,170],\n",
    "                    [0,0,0,0,0,0,0,0,0,0,0,0,0]]\n"
   ]
  },
  {
   "cell_type": "code",
   "execution_count": 7,
   "id": "ecb91653-7244-47f9-afc7-6ffe21f452a2",
   "metadata": {},
   "outputs": [],
   "source": [
    "# Generamos el arreglo final de tipo \"numpy array\"\n",
    "arreglo2 = np.array(d2)"
   ]
  },
  {
   "cell_type": "code",
   "execution_count": 8,
   "id": "c9eeb40b-e1c3-4a52-92b3-ee5ac8b70dd1",
   "metadata": {},
   "outputs": [
    {
     "name": "stdout",
     "output_type": "stream",
     "text": [
      "CPU times: user 17 µs, sys: 3 µs, total: 20 µs\n",
      "Wall time: 27.2 µs\n"
     ]
    }
   ],
   "source": [
    "%%time\n",
    "MF2=MaxFlowAeiu(arreglo2)"
   ]
  },
  {
   "cell_type": "code",
   "execution_count": 9,
   "id": "fdeb8d1c-64c9-47ce-aa27-efcb66dad8c1",
   "metadata": {},
   "outputs": [
    {
     "name": "stdout",
     "output_type": "stream",
     "text": [
      "The maximum flow in this network is 540\n",
      "CPU times: user 3.32 ms, sys: 52 µs, total: 3.37 ms\n",
      "Wall time: 3.15 ms\n"
     ]
    }
   ],
   "source": [
    "%%time\n",
    "print(\"The maximum flow in this network is {}\".format(MF2.ford_fulkerson()))"
   ]
  },
  {
   "cell_type": "markdown",
   "id": "bb0c87a0-7ac0-4aaa-8d53-53822adc817b",
   "metadata": {},
   "source": [
    "## Ejemplo 3\n",
    "Ahora probaremos con una matriz más grande sobre el transporte de pasajeros en aerolíneas en Estados Unidos"
   ]
  },
  {
   "cell_type": "code",
   "execution_count": 10,
   "id": "8d22c4d0-26c3-4a80-89b2-a78c5cbb09b7",
   "metadata": {
    "tags": []
   },
   "outputs": [
    {
     "data": {
      "text/html": [
       "<div>\n",
       "<style scoped>\n",
       "    .dataframe tbody tr th:only-of-type {\n",
       "        vertical-align: middle;\n",
       "    }\n",
       "\n",
       "    .dataframe tbody tr th {\n",
       "        vertical-align: top;\n",
       "    }\n",
       "\n",
       "    .dataframe thead th {\n",
       "        text-align: right;\n",
       "    }\n",
       "</style>\n",
       "<table border=\"1\" class=\"dataframe\">\n",
       "  <thead>\n",
       "    <tr style=\"text-align: right;\">\n",
       "      <th>Destination</th>\n",
       "      <th>LAX</th>\n",
       "      <th>ATL</th>\n",
       "      <th>BOS</th>\n",
       "      <th>DEN</th>\n",
       "      <th>IAD</th>\n",
       "      <th>ORD</th>\n",
       "      <th>PHX</th>\n",
       "      <th>SEA</th>\n",
       "      <th>SFO</th>\n",
       "      <th>JFK</th>\n",
       "    </tr>\n",
       "    <tr>\n",
       "      <th>Source</th>\n",
       "      <th></th>\n",
       "      <th></th>\n",
       "      <th></th>\n",
       "      <th></th>\n",
       "      <th></th>\n",
       "      <th></th>\n",
       "      <th></th>\n",
       "      <th></th>\n",
       "      <th></th>\n",
       "      <th></th>\n",
       "    </tr>\n",
       "  </thead>\n",
       "  <tbody>\n",
       "    <tr>\n",
       "      <th>LAX</th>\n",
       "      <td>0.0</td>\n",
       "      <td>2288.0</td>\n",
       "      <td>836.0</td>\n",
       "      <td>2072.0</td>\n",
       "      <td>520.0</td>\n",
       "      <td>2525.0</td>\n",
       "      <td>1156.0</td>\n",
       "      <td>1624.0</td>\n",
       "      <td>3842.0</td>\n",
       "      <td>2057.0</td>\n",
       "    </tr>\n",
       "    <tr>\n",
       "      <th>ATL</th>\n",
       "      <td>0.0</td>\n",
       "      <td>0.0</td>\n",
       "      <td>2035.0</td>\n",
       "      <td>1440.0</td>\n",
       "      <td>884.0</td>\n",
       "      <td>2235.0</td>\n",
       "      <td>1573.0</td>\n",
       "      <td>1180.0</td>\n",
       "      <td>1618.0</td>\n",
       "      <td>1350.0</td>\n",
       "    </tr>\n",
       "    <tr>\n",
       "      <th>BOS</th>\n",
       "      <td>0.0</td>\n",
       "      <td>1850.0</td>\n",
       "      <td>0.0</td>\n",
       "      <td>720.0</td>\n",
       "      <td>720.0</td>\n",
       "      <td>1884.0</td>\n",
       "      <td>640.0</td>\n",
       "      <td>180.0</td>\n",
       "      <td>1380.0</td>\n",
       "      <td>751.0</td>\n",
       "    </tr>\n",
       "    <tr>\n",
       "      <th>DEN</th>\n",
       "      <td>0.0</td>\n",
       "      <td>1688.0</td>\n",
       "      <td>720.0</td>\n",
       "      <td>0.0</td>\n",
       "      <td>1080.0</td>\n",
       "      <td>2150.0</td>\n",
       "      <td>1372.0</td>\n",
       "      <td>1379.0</td>\n",
       "      <td>1790.0</td>\n",
       "      <td>360.0</td>\n",
       "    </tr>\n",
       "    <tr>\n",
       "      <th>IAD</th>\n",
       "      <td>0.0</td>\n",
       "      <td>938.0</td>\n",
       "      <td>638.0</td>\n",
       "      <td>1180.0</td>\n",
       "      <td>0.0</td>\n",
       "      <td>938.0</td>\n",
       "      <td>180.0</td>\n",
       "      <td>488.0</td>\n",
       "      <td>1130.0</td>\n",
       "      <td>0.0</td>\n",
       "    </tr>\n",
       "    <tr>\n",
       "      <th>ORD</th>\n",
       "      <td>0.0</td>\n",
       "      <td>2500.0</td>\n",
       "      <td>2185.0</td>\n",
       "      <td>2660.0</td>\n",
       "      <td>728.0</td>\n",
       "      <td>0.0</td>\n",
       "      <td>2148.0</td>\n",
       "      <td>1584.0</td>\n",
       "      <td>2437.0</td>\n",
       "      <td>160.0</td>\n",
       "    </tr>\n",
       "    <tr>\n",
       "      <th>PHX</th>\n",
       "      <td>0.0</td>\n",
       "      <td>1270.0</td>\n",
       "      <td>480.0</td>\n",
       "      <td>1352.0</td>\n",
       "      <td>180.0</td>\n",
       "      <td>2022.0</td>\n",
       "      <td>0.0</td>\n",
       "      <td>1194.0</td>\n",
       "      <td>1431.0</td>\n",
       "      <td>1187.0</td>\n",
       "    </tr>\n",
       "    <tr>\n",
       "      <th>SEA</th>\n",
       "      <td>0.0</td>\n",
       "      <td>900.0</td>\n",
       "      <td>165.0</td>\n",
       "      <td>1022.0</td>\n",
       "      <td>308.0</td>\n",
       "      <td>1404.0</td>\n",
       "      <td>1108.0</td>\n",
       "      <td>0.0</td>\n",
       "      <td>2047.0</td>\n",
       "      <td>460.0</td>\n",
       "    </tr>\n",
       "    <tr>\n",
       "      <th>SFO</th>\n",
       "      <td>0.0</td>\n",
       "      <td>1508.0</td>\n",
       "      <td>920.0</td>\n",
       "      <td>1690.0</td>\n",
       "      <td>760.0</td>\n",
       "      <td>1930.0</td>\n",
       "      <td>1254.0</td>\n",
       "      <td>2290.0</td>\n",
       "      <td>0.0</td>\n",
       "      <td>102.0</td>\n",
       "    </tr>\n",
       "    <tr>\n",
       "      <th>JFK</th>\n",
       "      <td>0.0</td>\n",
       "      <td>0.0</td>\n",
       "      <td>0.0</td>\n",
       "      <td>0.0</td>\n",
       "      <td>0.0</td>\n",
       "      <td>0.0</td>\n",
       "      <td>0.0</td>\n",
       "      <td>0.0</td>\n",
       "      <td>0.0</td>\n",
       "      <td>0.0</td>\n",
       "    </tr>\n",
       "  </tbody>\n",
       "</table>\n",
       "</div>"
      ],
      "text/plain": [
       "Destination  LAX     ATL     BOS     DEN     IAD     ORD     PHX     SEA  \\\n",
       "Source                                                                     \n",
       "LAX          0.0  2288.0   836.0  2072.0   520.0  2525.0  1156.0  1624.0   \n",
       "ATL          0.0     0.0  2035.0  1440.0   884.0  2235.0  1573.0  1180.0   \n",
       "BOS          0.0  1850.0     0.0   720.0   720.0  1884.0   640.0   180.0   \n",
       "DEN          0.0  1688.0   720.0     0.0  1080.0  2150.0  1372.0  1379.0   \n",
       "IAD          0.0   938.0   638.0  1180.0     0.0   938.0   180.0   488.0   \n",
       "ORD          0.0  2500.0  2185.0  2660.0   728.0     0.0  2148.0  1584.0   \n",
       "PHX          0.0  1270.0   480.0  1352.0   180.0  2022.0     0.0  1194.0   \n",
       "SEA          0.0   900.0   165.0  1022.0   308.0  1404.0  1108.0     0.0   \n",
       "SFO          0.0  1508.0   920.0  1690.0   760.0  1930.0  1254.0  2290.0   \n",
       "JFK          0.0     0.0     0.0     0.0     0.0     0.0     0.0     0.0   \n",
       "\n",
       "Destination     SFO     JFK  \n",
       "Source                       \n",
       "LAX          3842.0  2057.0  \n",
       "ATL          1618.0  1350.0  \n",
       "BOS          1380.0   751.0  \n",
       "DEN          1790.0   360.0  \n",
       "IAD          1130.0     0.0  \n",
       "ORD          2437.0   160.0  \n",
       "PHX          1431.0  1187.0  \n",
       "SEA          2047.0   460.0  \n",
       "SFO             0.0   102.0  \n",
       "JFK             0.0     0.0  "
      ]
     },
     "execution_count": 10,
     "metadata": {},
     "output_type": "execute_result"
    }
   ],
   "source": [
    "d3=pd.read_csv(\"https://raw.githubusercontent.com/sid-7/Airline_Maximum_Flow/master/flights.csv\")\n",
    "d3=d3.drop(['Unnamed: 0', 'Depature', 'Arrival'], axis=1)\n",
    "d3=d3.groupby(['Source', 'Destination'], as_index=False)['capacity'].sum()\n",
    "d3['capacity'] = pd.to_numeric(d3['capacity'], errors='coerce')\n",
    "new_row = pd.DataFrame([['JFK','JFK', 0], ['LAX','LAX', 0]],\n",
    "                   columns=['Source', 'Destination', 'capacity'])\n",
    "d3 = pd.concat([d3, new_row])\n",
    "d3 = d3.pivot(index=\"Source\", columns=\"Destination\", values=\"capacity\").fillna(0)\n",
    "column_to_move1 = d3.pop(\"LAX\")\n",
    "column_to_move2 = d3.pop(\"JFK\")\n",
    "d3.insert(0, \"LAX\", column_to_move1)\n",
    "d3.insert(9, \"JFK\", column_to_move2)\n",
    "t1 = ['JFK','LAX']\n",
    "t2 = ['JFK']\n",
    "t3 = ['LAX']\n",
    "\n",
    "a = d3.loc[[i for i in d3.index if i not in t1], :]\n",
    "b = d3.loc[t2, :]\n",
    "c = d3.loc[t3, :]\n",
    "\n",
    "d3=pd.concat([c, a, b])\n",
    "d3.head(10)"
   ]
  },
  {
   "cell_type": "code",
   "execution_count": 11,
   "id": "da49ffa9-c60d-414a-bf8b-2ed0704e7f7d",
   "metadata": {},
   "outputs": [],
   "source": [
    "# Generamos el arreglo final de tipo \"numpy array\"\n",
    "arreglo3 = np.array(d3)"
   ]
  },
  {
   "cell_type": "code",
   "execution_count": 12,
   "id": "1c9166a0-6c2c-4dae-8097-e68d4f5dff01",
   "metadata": {},
   "outputs": [
    {
     "name": "stdout",
     "output_type": "stream",
     "text": [
      "CPU times: user 24 µs, sys: 0 ns, total: 24 µs\n",
      "Wall time: 33.6 µs\n"
     ]
    }
   ],
   "source": [
    "%%time\n",
    "MF3=MaxFlowAeiu(arreglo3)"
   ]
  },
  {
   "cell_type": "code",
   "execution_count": 13,
   "id": "630aa8e3-712c-4447-a124-7179aed8d0da",
   "metadata": {},
   "outputs": [
    {
     "name": "stdout",
     "output_type": "stream",
     "text": [
      "The maximum flow in this network is 6427.0\n",
      "CPU times: user 6.44 ms, sys: 1.07 ms, total: 7.51 ms\n",
      "Wall time: 5.62 ms\n"
     ]
    }
   ],
   "source": [
    "%%time\n",
    "print(\"The maximum flow in this network is {}\".format(MF3.ford_fulkerson()))"
   ]
  },
  {
   "cell_type": "markdown",
   "id": "9126d558-27e8-4810-a127-2047ad8e5e3f",
   "metadata": {},
   "source": [
    "## Ejemplo 4\n",
    "Ahora usaremos una matriz mucho más grande"
   ]
  },
  {
   "cell_type": "code",
   "execution_count": 14,
   "id": "d8d3cb98-c01f-45e0-8910-7aa8f9170f4a",
   "metadata": {},
   "outputs": [],
   "source": [
    "import networkx as nx\n",
    "import random"
   ]
  },
  {
   "cell_type": "code",
   "execution_count": 15,
   "id": "9db908bf-89bf-448d-b476-3cc16e76e05e",
   "metadata": {},
   "outputs": [],
   "source": [
    "# Especificar el tamaño de la red n = número de nodos, m = número de ramas\n",
    "n = 1000\n",
    "m = 5000"
   ]
  },
  {
   "cell_type": "code",
   "execution_count": 16,
   "id": "f49b6588-5d6d-4462-bfbf-797119c44230",
   "metadata": {},
   "outputs": [],
   "source": [
    "network = nx.gnm_random_graph(n, m, directed=True)\n",
    "nodos = list(network.nodes)\n",
    "ramas = list(network.edges)"
   ]
  },
  {
   "cell_type": "code",
   "execution_count": 17,
   "id": "e39b9039-6327-4327-8ac1-9424f14a73a5",
   "metadata": {},
   "outputs": [],
   "source": [
    "# Crear arreglos de: nodo de envío, nodo de recepción y capacidad del enlace\n",
    "env = []\n",
    "rec = []\n",
    "cap = []\n",
    "for i in range(len(ramas)):\n",
    "    env.append(ramas[i][0])\n",
    "    rec.append(ramas[i][1])\n",
    "    cap.append(random.randint(20,100)) # La capacidad del enlace se determinade forma aleatoria con valores entre 20 y 100"
   ]
  },
  {
   "cell_type": "code",
   "execution_count": 18,
   "id": "38b84b09-06a6-4441-88a8-eb6c1f583912",
   "metadata": {},
   "outputs": [
    {
     "data": {
      "text/html": [
       "<div>\n",
       "<style scoped>\n",
       "    .dataframe tbody tr th:only-of-type {\n",
       "        vertical-align: middle;\n",
       "    }\n",
       "\n",
       "    .dataframe tbody tr th {\n",
       "        vertical-align: top;\n",
       "    }\n",
       "\n",
       "    .dataframe thead th {\n",
       "        text-align: right;\n",
       "    }\n",
       "</style>\n",
       "<table border=\"1\" class=\"dataframe\">\n",
       "  <thead>\n",
       "    <tr style=\"text-align: right;\">\n",
       "      <th></th>\n",
       "      <th>0</th>\n",
       "      <th>1</th>\n",
       "      <th>2</th>\n",
       "      <th>3</th>\n",
       "      <th>4</th>\n",
       "      <th>5</th>\n",
       "      <th>6</th>\n",
       "      <th>7</th>\n",
       "      <th>8</th>\n",
       "      <th>9</th>\n",
       "      <th>...</th>\n",
       "      <th>990</th>\n",
       "      <th>991</th>\n",
       "      <th>992</th>\n",
       "      <th>993</th>\n",
       "      <th>994</th>\n",
       "      <th>995</th>\n",
       "      <th>996</th>\n",
       "      <th>997</th>\n",
       "      <th>998</th>\n",
       "      <th>999</th>\n",
       "    </tr>\n",
       "  </thead>\n",
       "  <tbody>\n",
       "    <tr>\n",
       "      <th>0</th>\n",
       "      <td>0</td>\n",
       "      <td>0</td>\n",
       "      <td>0</td>\n",
       "      <td>0</td>\n",
       "      <td>0</td>\n",
       "      <td>0</td>\n",
       "      <td>0</td>\n",
       "      <td>0</td>\n",
       "      <td>0</td>\n",
       "      <td>0</td>\n",
       "      <td>...</td>\n",
       "      <td>0</td>\n",
       "      <td>0</td>\n",
       "      <td>0</td>\n",
       "      <td>0</td>\n",
       "      <td>0</td>\n",
       "      <td>0</td>\n",
       "      <td>0</td>\n",
       "      <td>0</td>\n",
       "      <td>0</td>\n",
       "      <td>0</td>\n",
       "    </tr>\n",
       "    <tr>\n",
       "      <th>1</th>\n",
       "      <td>0</td>\n",
       "      <td>0</td>\n",
       "      <td>0</td>\n",
       "      <td>0</td>\n",
       "      <td>0</td>\n",
       "      <td>0</td>\n",
       "      <td>0</td>\n",
       "      <td>0</td>\n",
       "      <td>0</td>\n",
       "      <td>0</td>\n",
       "      <td>...</td>\n",
       "      <td>0</td>\n",
       "      <td>0</td>\n",
       "      <td>0</td>\n",
       "      <td>0</td>\n",
       "      <td>0</td>\n",
       "      <td>0</td>\n",
       "      <td>0</td>\n",
       "      <td>0</td>\n",
       "      <td>0</td>\n",
       "      <td>0</td>\n",
       "    </tr>\n",
       "    <tr>\n",
       "      <th>2</th>\n",
       "      <td>0</td>\n",
       "      <td>0</td>\n",
       "      <td>0</td>\n",
       "      <td>0</td>\n",
       "      <td>0</td>\n",
       "      <td>0</td>\n",
       "      <td>0</td>\n",
       "      <td>0</td>\n",
       "      <td>0</td>\n",
       "      <td>0</td>\n",
       "      <td>...</td>\n",
       "      <td>0</td>\n",
       "      <td>0</td>\n",
       "      <td>0</td>\n",
       "      <td>0</td>\n",
       "      <td>0</td>\n",
       "      <td>0</td>\n",
       "      <td>0</td>\n",
       "      <td>0</td>\n",
       "      <td>0</td>\n",
       "      <td>0</td>\n",
       "    </tr>\n",
       "    <tr>\n",
       "      <th>3</th>\n",
       "      <td>0</td>\n",
       "      <td>0</td>\n",
       "      <td>0</td>\n",
       "      <td>0</td>\n",
       "      <td>0</td>\n",
       "      <td>0</td>\n",
       "      <td>0</td>\n",
       "      <td>0</td>\n",
       "      <td>0</td>\n",
       "      <td>0</td>\n",
       "      <td>...</td>\n",
       "      <td>0</td>\n",
       "      <td>0</td>\n",
       "      <td>0</td>\n",
       "      <td>0</td>\n",
       "      <td>0</td>\n",
       "      <td>0</td>\n",
       "      <td>0</td>\n",
       "      <td>0</td>\n",
       "      <td>0</td>\n",
       "      <td>0</td>\n",
       "    </tr>\n",
       "    <tr>\n",
       "      <th>4</th>\n",
       "      <td>0</td>\n",
       "      <td>0</td>\n",
       "      <td>0</td>\n",
       "      <td>0</td>\n",
       "      <td>0</td>\n",
       "      <td>0</td>\n",
       "      <td>0</td>\n",
       "      <td>0</td>\n",
       "      <td>0</td>\n",
       "      <td>0</td>\n",
       "      <td>...</td>\n",
       "      <td>0</td>\n",
       "      <td>27</td>\n",
       "      <td>0</td>\n",
       "      <td>0</td>\n",
       "      <td>0</td>\n",
       "      <td>0</td>\n",
       "      <td>0</td>\n",
       "      <td>0</td>\n",
       "      <td>0</td>\n",
       "      <td>0</td>\n",
       "    </tr>\n",
       "    <tr>\n",
       "      <th>...</th>\n",
       "      <td>...</td>\n",
       "      <td>...</td>\n",
       "      <td>...</td>\n",
       "      <td>...</td>\n",
       "      <td>...</td>\n",
       "      <td>...</td>\n",
       "      <td>...</td>\n",
       "      <td>...</td>\n",
       "      <td>...</td>\n",
       "      <td>...</td>\n",
       "      <td>...</td>\n",
       "      <td>...</td>\n",
       "      <td>...</td>\n",
       "      <td>...</td>\n",
       "      <td>...</td>\n",
       "      <td>...</td>\n",
       "      <td>...</td>\n",
       "      <td>...</td>\n",
       "      <td>...</td>\n",
       "      <td>...</td>\n",
       "      <td>...</td>\n",
       "    </tr>\n",
       "    <tr>\n",
       "      <th>995</th>\n",
       "      <td>0</td>\n",
       "      <td>0</td>\n",
       "      <td>0</td>\n",
       "      <td>0</td>\n",
       "      <td>0</td>\n",
       "      <td>0</td>\n",
       "      <td>0</td>\n",
       "      <td>0</td>\n",
       "      <td>0</td>\n",
       "      <td>0</td>\n",
       "      <td>...</td>\n",
       "      <td>0</td>\n",
       "      <td>0</td>\n",
       "      <td>0</td>\n",
       "      <td>0</td>\n",
       "      <td>0</td>\n",
       "      <td>0</td>\n",
       "      <td>0</td>\n",
       "      <td>0</td>\n",
       "      <td>0</td>\n",
       "      <td>0</td>\n",
       "    </tr>\n",
       "    <tr>\n",
       "      <th>996</th>\n",
       "      <td>0</td>\n",
       "      <td>0</td>\n",
       "      <td>0</td>\n",
       "      <td>0</td>\n",
       "      <td>0</td>\n",
       "      <td>0</td>\n",
       "      <td>0</td>\n",
       "      <td>0</td>\n",
       "      <td>0</td>\n",
       "      <td>0</td>\n",
       "      <td>...</td>\n",
       "      <td>0</td>\n",
       "      <td>0</td>\n",
       "      <td>0</td>\n",
       "      <td>0</td>\n",
       "      <td>0</td>\n",
       "      <td>0</td>\n",
       "      <td>0</td>\n",
       "      <td>0</td>\n",
       "      <td>0</td>\n",
       "      <td>0</td>\n",
       "    </tr>\n",
       "    <tr>\n",
       "      <th>997</th>\n",
       "      <td>0</td>\n",
       "      <td>0</td>\n",
       "      <td>0</td>\n",
       "      <td>0</td>\n",
       "      <td>0</td>\n",
       "      <td>0</td>\n",
       "      <td>0</td>\n",
       "      <td>0</td>\n",
       "      <td>0</td>\n",
       "      <td>0</td>\n",
       "      <td>...</td>\n",
       "      <td>0</td>\n",
       "      <td>0</td>\n",
       "      <td>0</td>\n",
       "      <td>0</td>\n",
       "      <td>0</td>\n",
       "      <td>0</td>\n",
       "      <td>0</td>\n",
       "      <td>0</td>\n",
       "      <td>0</td>\n",
       "      <td>0</td>\n",
       "    </tr>\n",
       "    <tr>\n",
       "      <th>998</th>\n",
       "      <td>0</td>\n",
       "      <td>0</td>\n",
       "      <td>0</td>\n",
       "      <td>0</td>\n",
       "      <td>0</td>\n",
       "      <td>0</td>\n",
       "      <td>0</td>\n",
       "      <td>0</td>\n",
       "      <td>0</td>\n",
       "      <td>0</td>\n",
       "      <td>...</td>\n",
       "      <td>0</td>\n",
       "      <td>0</td>\n",
       "      <td>0</td>\n",
       "      <td>0</td>\n",
       "      <td>0</td>\n",
       "      <td>0</td>\n",
       "      <td>0</td>\n",
       "      <td>0</td>\n",
       "      <td>0</td>\n",
       "      <td>0</td>\n",
       "    </tr>\n",
       "    <tr>\n",
       "      <th>999</th>\n",
       "      <td>0</td>\n",
       "      <td>0</td>\n",
       "      <td>0</td>\n",
       "      <td>0</td>\n",
       "      <td>0</td>\n",
       "      <td>0</td>\n",
       "      <td>0</td>\n",
       "      <td>0</td>\n",
       "      <td>0</td>\n",
       "      <td>0</td>\n",
       "      <td>...</td>\n",
       "      <td>0</td>\n",
       "      <td>0</td>\n",
       "      <td>0</td>\n",
       "      <td>0</td>\n",
       "      <td>0</td>\n",
       "      <td>0</td>\n",
       "      <td>0</td>\n",
       "      <td>0</td>\n",
       "      <td>0</td>\n",
       "      <td>0</td>\n",
       "    </tr>\n",
       "  </tbody>\n",
       "</table>\n",
       "<p>1000 rows × 1000 columns</p>\n",
       "</div>"
      ],
      "text/plain": [
       "     0    1    2    3    4    5    6    7    8    9    ...  990  991  992  \\\n",
       "0      0    0    0    0    0    0    0    0    0    0  ...    0    0    0   \n",
       "1      0    0    0    0    0    0    0    0    0    0  ...    0    0    0   \n",
       "2      0    0    0    0    0    0    0    0    0    0  ...    0    0    0   \n",
       "3      0    0    0    0    0    0    0    0    0    0  ...    0    0    0   \n",
       "4      0    0    0    0    0    0    0    0    0    0  ...    0   27    0   \n",
       "..   ...  ...  ...  ...  ...  ...  ...  ...  ...  ...  ...  ...  ...  ...   \n",
       "995    0    0    0    0    0    0    0    0    0    0  ...    0    0    0   \n",
       "996    0    0    0    0    0    0    0    0    0    0  ...    0    0    0   \n",
       "997    0    0    0    0    0    0    0    0    0    0  ...    0    0    0   \n",
       "998    0    0    0    0    0    0    0    0    0    0  ...    0    0    0   \n",
       "999    0    0    0    0    0    0    0    0    0    0  ...    0    0    0   \n",
       "\n",
       "     993  994  995  996  997  998  999  \n",
       "0      0    0    0    0    0    0    0  \n",
       "1      0    0    0    0    0    0    0  \n",
       "2      0    0    0    0    0    0    0  \n",
       "3      0    0    0    0    0    0    0  \n",
       "4      0    0    0    0    0    0    0  \n",
       "..   ...  ...  ...  ...  ...  ...  ...  \n",
       "995    0    0    0    0    0    0    0  \n",
       "996    0    0    0    0    0    0    0  \n",
       "997    0    0    0    0    0    0    0  \n",
       "998    0    0    0    0    0    0    0  \n",
       "999    0    0    0    0    0    0    0  \n",
       "\n",
       "[1000 rows x 1000 columns]"
      ]
     },
     "execution_count": 18,
     "metadata": {},
     "output_type": "execute_result"
    }
   ],
   "source": [
    "# Se crea el data frame o matriz de incidencias de los nodos. Se asegura que el nodo fuente sea el 0 y solo tenga ramas saliendo de él y que el último nodo solo tenga ramas entrando (sumidero)\n",
    "d4 = pd.DataFrame(0, index=np.arange(0,len(nodos),1), columns=list(range(0,len(nodos))))\n",
    "aux = 0\n",
    "for n in env:\n",
    "    if rec[aux] == 0:\n",
    "        d4.iloc[rec[aux],n] = cap[aux]\n",
    "    elif n == max(nodos):\n",
    "        d4.iloc[rec[aux],n] = cap[aux]\n",
    "    else:\n",
    "        d4.iloc[n,rec[aux]] = cap[aux]\n",
    "    aux += 1\n",
    "\n",
    "d4"
   ]
  },
  {
   "cell_type": "code",
   "execution_count": 19,
   "id": "7ae2b3e4-9bdf-4dde-8041-3a770130b568",
   "metadata": {
    "tags": [
     "block:numpy_array",
     "prev:read"
    ]
   },
   "outputs": [],
   "source": [
    "# Generamos el arreglo final de tipo \"numpy array\"\n",
    "arreglo4 = d4.to_numpy()"
   ]
  },
  {
   "cell_type": "code",
   "execution_count": 20,
   "id": "c64cd25f-170a-439a-969e-202284c11bc5",
   "metadata": {
    "tags": [
     "block:define",
     "prev:numpy_array"
    ]
   },
   "outputs": [
    {
     "name": "stdout",
     "output_type": "stream",
     "text": [
      "CPU times: user 24 µs, sys: 2 µs, total: 26 µs\n",
      "Wall time: 35 µs\n"
     ]
    }
   ],
   "source": [
    "%%time\n",
    "MF4=MaxFlowAeiu(arreglo4)"
   ]
  },
  {
   "cell_type": "code",
   "execution_count": 21,
   "id": "ef04799a-8df8-4cc0-b756-64a28c714a47",
   "metadata": {
    "tags": [
     "block:print",
     "prev:define"
    ]
   },
   "outputs": [
    {
     "name": "stdout",
     "output_type": "stream",
     "text": [
      "The maximum flow in this network is 643\n",
      "CPU times: user 26 s, sys: 0 ns, total: 26 s\n",
      "Wall time: 26 s\n"
     ]
    }
   ],
   "source": [
    "%%time\n",
    "print(\"The maximum flow in this network is {}\".format(MF4.ford_fulkerson()))"
   ]
  },
  {
   "cell_type": "markdown",
   "id": "378cd401",
   "metadata": {
    "tags": []
   },
   "source": [
    "## Conclusiones\n",
    "\n",
    "Ya vimos que el desempeño de nuestro algoritmo da buenos resultados en cuanto a tiempo en los primeros 3 ejemplos fue casi imperceptible, para el ejemplo con una red de 1000 nodos con 5000 arcos tomó 26 segundos en obtener el flujo máximo, lo cual sigue siendo bueno."
   ]
  },
  {
   "cell_type": "markdown",
   "id": "c1c6e478",
   "metadata": {
    "tags": []
   },
   "source": [
    "## Referencias\n",
    "* [1] [Palacios E. (2022) Libro de Optimización](https://itam-ds.github.io/analisis-numerico-computo-cientifico/4.optimizacion_en_redes_y_prog_lineal/4.2/Definiciones_generales_de_flujo_en_redes.html)\n",
    "* [2] [Dumora c. el all. Data Oriented Algorithm for Real Time Estimation of Flow Rates and Flow Directions in Water Distribution Network](https://arxiv.org/pdf/1807.10147.pdf)\n",
    "* [3] [Max Flow Problem Introduction](https://www.geeksforgeeks.org/max-flow-problem-introduction/)\n",
    "* [4] [Ford-Fulkerson Algorithm](https://www.programiz.com/dsa/ford-fulkerson-algorithm)\n",
    "* [5] [Algoritmo de Ford-Fulkerson - Ford–Fulkerson algorithm](https://upwikies.top/wiki/Ford%e2%80%93Fulkerson_algorithm)\n",
    "* [6] [Oviedo J. (2008) Algoritmo de Ford-Fulkerson Mejorado](http://www.ptolomeo.unam.mx:8080/jspui/bitstream/132.248.52.100/2387/1/gonzalezoviedo.pdf)\n",
    "* [7] [Building a Smarter (and Cheaper) School Bus System: How a Boston-MIT Partnership Led to New Routes That Are 20% More Efficient and Saved the District $5 Million](https://www.the74million.org/article/building-a-smarter-and-cheaper-school-bus-system-how-a-boston-mit-partnership-led-to-new-routes-that-are-20-more-efficient-use-400-fewer-buses-save-5-million/)\n",
    "* [8] [Optimazation examples](https://vitalflux.com/convex-optimization-explained-concepts-examples/)\n",
    "* [9] [Breadth First Search or BFS for a Graph](https://www.geeksforgeeks.org/breadth-first-search-or-bfs-for-a-graph/)"
   ]
  }
 ],
 "metadata": {
  "kernelspec": {
   "display_name": "Python 3 (ipykernel)",
   "language": "python",
   "name": "python3"
  },
  "kubeflow_notebook": {
   "autosnapshot": false,
   "docker_image": "sancas96/docker_t3:0.1",
   "experiment": {
    "id": "new",
    "name": "probando"
   },
   "experiment_name": "probando",
   "katib_metadata": {
    "algorithm": {
     "algorithmName": "grid"
    },
    "maxFailedTrialCount": 3,
    "maxTrialCount": 12,
    "objective": {
     "objectiveMetricName": "",
     "type": "minimize"
    },
    "parallelTrialCount": 3,
    "parameters": []
   },
   "katib_run": false,
   "pipeline_description": "testing_mfaeiu_v1",
   "pipeline_name": "prueba1",
   "snapshot_volumes": false,
   "steps_defaults": [],
   "volume_access_mode": "rwm",
   "volumes": []
  },
  "language_info": {
   "codemirror_mode": {
    "name": "ipython",
    "version": 3
   },
   "file_extension": ".py",
   "mimetype": "text/x-python",
   "name": "python",
   "nbconvert_exporter": "python",
   "pygments_lexer": "ipython3",
   "version": "3.8.5"
  }
 },
 "nbformat": 4,
 "nbformat_minor": 5
}
