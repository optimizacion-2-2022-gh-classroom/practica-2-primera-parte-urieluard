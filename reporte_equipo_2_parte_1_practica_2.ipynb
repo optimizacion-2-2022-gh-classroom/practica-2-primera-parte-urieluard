{
 "cells": [
  {
   "cell_type": "markdown",
   "id": "34cb8ccb",
   "metadata": {
    "tags": []
   },
   "source": [
    "# Práctica 2 Parte 1"
   ]
  },
  {
   "cell_type": "markdown",
   "id": "f8fc64af",
   "metadata": {
    "tags": []
   },
   "source": [
    "La primera parte consiste en probar el método implementado en la práctica 1 con diferentes experimentos, en este caso lo probaremos con distintas redes y hacerlo más robusto. Los ejemplos auxiliares serán utilizados para encontrar errores o áreas de oportunidad de nuestro algoritmo.\n",
    "\n",
    "Para consultar la información de nuestro paquete, vea: [reporte parte 2 práctica 1](https://github.com/optimizacion-2-2022-gh-classroom/practica-1-segunda-parte-LuzVerde23/blob/main/reporte_equipo_2_parte_2_practica_1.ipynb).\n"
   ]
  },
  {
   "cell_type": "code",
   "execution_count": 7,
   "id": "4660e907",
   "metadata": {
    "tags": [
     "imports"
    ]
   },
   "outputs": [],
   "source": [
    "import pandas as pd\n",
    "import numpy as np\n",
    "#import kale\n",
    "from MaxFlowAeiu import MaxFlowAeiu"
   ]
  },
  {
   "cell_type": "markdown",
   "id": "eb569323-71b1-41ca-bf86-6b426ebbf73d",
   "metadata": {},
   "source": [
    "## Ejemplo 1\n",
    "Para comenzar usaremos el ejemplo de la práctica uno"
   ]
  },
  {
   "cell_type": "code",
   "execution_count": 12,
   "id": "0ee3fb88",
   "metadata": {
    "tags": [
     "block:read"
    ]
   },
   "outputs": [],
   "source": [
    "d = pd.read_csv('d.csv',header=None)"
   ]
  },
  {
   "cell_type": "code",
   "execution_count": 16,
   "id": "a17bba8e",
   "metadata": {
    "tags": [
     "block:numpy_array",
     "prev:read"
    ]
   },
   "outputs": [],
   "source": [
    "# Generamos el arreglo final de tipo \"numpy array\"\n",
    "arreglo = d.to_numpy()"
   ]
  },
  {
   "cell_type": "code",
   "execution_count": 17,
   "id": "ecbcd50b",
   "metadata": {
    "tags": [
     "block:define",
     "prev:numpy_array"
    ]
   },
   "outputs": [
    {
     "name": "stdout",
     "output_type": "stream",
     "text": [
      "CPU times: user 49 µs, sys: 5 µs, total: 54 µs\n",
      "Wall time: 72.7 µs\n"
     ]
    }
   ],
   "source": [
    "%%time\n",
    "MF=MaxFlowAeiu(arreglo)"
   ]
  },
  {
   "cell_type": "code",
   "execution_count": 18,
   "id": "fa1e9843",
   "metadata": {
    "tags": [
     "block:print",
     "prev:define"
    ]
   },
   "outputs": [
    {
     "name": "stdout",
     "output_type": "stream",
     "text": [
      "The maximum flow in this network is 0\n",
      "CPU times: user 4.01 ms, sys: 0 ns, total: 4.01 ms\n",
      "Wall time: 3.54 ms\n"
     ]
    }
   ],
   "source": [
    "%%time\n",
    "print(\"The maximum flow in this network is {}\".format(MF.ford_fulkerson()))"
   ]
  },
  {
   "cell_type": "markdown",
   "id": "b77e627d-98b2-449c-9533-e760c8baaf05",
   "metadata": {},
   "source": [
    "# Ejemplo 2\n",
    "Seguimos con un ejemplo de menor escala que trata sobre el transporte de personas en una empresa de autobúses"
   ]
  },
  {
   "cell_type": "code",
   "execution_count": 19,
   "id": "9c0063cf-7f44-4ba3-87aa-62728069e85b",
   "metadata": {},
   "outputs": [],
   "source": [
    "d2 = [[0,188,240,160,0,0,0,0,0,0,0,0,0],\n",
    "                    [0,0,0,0,170,0,0,0,0,0,0,0,0],\n",
    "                    [0,0,0,0,0,0,210,180,0,0,0,0,0],\n",
    "                    [0,0,0,0,0,140,0,0,0,0,0,0,0],\n",
    "                    [0,0,0,0,0,0,0,0,0,130,90,0,0],\n",
    "                    [0,0,0,0,0,0,0,0,130,0,0,0,0],\n",
    "                    [0,0,0,0,0,0,0,0,150,0,0,0,0],\n",
    "                    [0,0,0,0,0,0,0,0,0,0,0,160,0],\n",
    "                    [0,0,0,0,0,0,0,0,0,0,0,0,210],\n",
    "                    [0,0,0,0,0,0,0,0,0,0,0,0,110],\n",
    "                    [0,0,0,0,0,0,0,0,0,0,0,0,80],\n",
    "                    [0,0,0,0,0,0,0,0,0,0,0,0,170],\n",
    "                    [0,0,0,0,0,0,0,0,0,0,0,0,0]]\n"
   ]
  },
  {
   "cell_type": "code",
   "execution_count": 21,
   "id": "ecb91653-7244-47f9-afc7-6ffe21f452a2",
   "metadata": {},
   "outputs": [],
   "source": [
    "# Generamos el arreglo final de tipo \"numpy array\"\n",
    "arreglo2 = np.array(d2)"
   ]
  },
  {
   "cell_type": "code",
   "execution_count": 22,
   "id": "c9eeb40b-e1c3-4a52-92b3-ee5ac8b70dd1",
   "metadata": {},
   "outputs": [
    {
     "name": "stdout",
     "output_type": "stream",
     "text": [
      "CPU times: user 32 µs, sys: 0 ns, total: 32 µs\n",
      "Wall time: 45.8 µs\n"
     ]
    }
   ],
   "source": [
    "%%time\n",
    "MF1=MaxFlowAeiu(arreglo2)"
   ]
  },
  {
   "cell_type": "code",
   "execution_count": 23,
   "id": "fdeb8d1c-64c9-47ce-aa27-efcb66dad8c1",
   "metadata": {},
   "outputs": [
    {
     "name": "stdout",
     "output_type": "stream",
     "text": [
      "The maximum flow in this network is 0\n",
      "CPU times: user 3.55 ms, sys: 0 ns, total: 3.55 ms\n",
      "Wall time: 3.04 ms\n"
     ]
    }
   ],
   "source": [
    "%%time\n",
    "print(\"The maximum flow in this network is {}\".format(MF.ford_fulkerson()))"
   ]
  },
  {
   "cell_type": "markdown",
   "id": "bb0c87a0-7ac0-4aaa-8d53-53822adc817b",
   "metadata": {},
   "source": [
    "## Ejemplo 3\n",
    "Ahora probaremos con una matriz más grande sobre el transporte de pasajeros en aerolíneas en Estados Unidos"
   ]
  },
  {
   "cell_type": "code",
   "execution_count": 24,
   "id": "39419270-f71f-4bb4-a3a5-c46ef99e759f",
   "metadata": {},
   "outputs": [],
   "source": [
    "d3=pd.read_csv(\"https://raw.githubusercontent.com/sid-7/Airline_Maximum_Flow/master/flights.csv\")"
   ]
  },
  {
   "cell_type": "code",
   "execution_count": 28,
   "id": "8c9ec930-b39b-4958-a249-2547a22a15f1",
   "metadata": {},
   "outputs": [
    {
     "data": {
      "text/html": [
       "<div>\n",
       "<style scoped>\n",
       "    .dataframe tbody tr th:only-of-type {\n",
       "        vertical-align: middle;\n",
       "    }\n",
       "\n",
       "    .dataframe tbody tr th {\n",
       "        vertical-align: top;\n",
       "    }\n",
       "\n",
       "    .dataframe thead th {\n",
       "        text-align: right;\n",
       "    }\n",
       "</style>\n",
       "<table border=\"1\" class=\"dataframe\">\n",
       "  <thead>\n",
       "    <tr style=\"text-align: right;\">\n",
       "      <th></th>\n",
       "      <th>Unnamed: 0</th>\n",
       "      <th>Source</th>\n",
       "      <th>Destination</th>\n",
       "      <th>Depature</th>\n",
       "      <th>Arrival</th>\n",
       "      <th>capacity</th>\n",
       "    </tr>\n",
       "  </thead>\n",
       "  <tbody>\n",
       "    <tr>\n",
       "      <th>0</th>\n",
       "      <td>0</td>\n",
       "      <td>ORD</td>\n",
       "      <td>ATL</td>\n",
       "      <td>530</td>\n",
       "      <td>829</td>\n",
       "      <td>185</td>\n",
       "    </tr>\n",
       "    <tr>\n",
       "      <th>1</th>\n",
       "      <td>1</td>\n",
       "      <td>BOS</td>\n",
       "      <td>ATL</td>\n",
       "      <td>545</td>\n",
       "      <td>854</td>\n",
       "      <td>185</td>\n",
       "    </tr>\n",
       "    <tr>\n",
       "      <th>2</th>\n",
       "      <td>2</td>\n",
       "      <td>LAX</td>\n",
       "      <td>SEA</td>\n",
       "      <td>600</td>\n",
       "      <td>900</td>\n",
       "      <td>165</td>\n",
       "    </tr>\n",
       "    <tr>\n",
       "      <th>3</th>\n",
       "      <td>3</td>\n",
       "      <td>PHX</td>\n",
       "      <td>ATL</td>\n",
       "      <td>600</td>\n",
       "      <td>1127</td>\n",
       "      <td>185</td>\n",
       "    </tr>\n",
       "    <tr>\n",
       "      <th>4</th>\n",
       "      <td>4</td>\n",
       "      <td>SFO</td>\n",
       "      <td>ATL</td>\n",
       "      <td>600</td>\n",
       "      <td>1332</td>\n",
       "      <td>230</td>\n",
       "    </tr>\n",
       "  </tbody>\n",
       "</table>\n",
       "</div>"
      ],
      "text/plain": [
       "   Unnamed: 0 Source Destination  Depature  Arrival  capacity\n",
       "0           0    ORD         ATL       530      829       185\n",
       "1           1    BOS         ATL       545      854       185\n",
       "2           2    LAX         SEA       600      900       165\n",
       "3           3    PHX         ATL       600     1127       185\n",
       "4           4    SFO         ATL       600     1332       230"
      ]
     },
     "execution_count": 28,
     "metadata": {},
     "output_type": "execute_result"
    }
   ],
   "source": [
    "d3.head()"
   ]
  },
  {
   "cell_type": "code",
   "execution_count": 36,
   "id": "2ef1d37d-bffa-463d-9922-8608a1bb41e7",
   "metadata": {},
   "outputs": [],
   "source": [
    "d3_1=d3.drop(['Unnamed: 0', 'Depature', 'Arrival'], axis=1)"
   ]
  },
  {
   "cell_type": "code",
   "execution_count": 37,
   "id": "1515d53b-4a8a-4361-8d91-7141435533ed",
   "metadata": {},
   "outputs": [
    {
     "data": {
      "text/html": [
       "<div>\n",
       "<style scoped>\n",
       "    .dataframe tbody tr th:only-of-type {\n",
       "        vertical-align: middle;\n",
       "    }\n",
       "\n",
       "    .dataframe tbody tr th {\n",
       "        vertical-align: top;\n",
       "    }\n",
       "\n",
       "    .dataframe thead th {\n",
       "        text-align: right;\n",
       "    }\n",
       "</style>\n",
       "<table border=\"1\" class=\"dataframe\">\n",
       "  <thead>\n",
       "    <tr style=\"text-align: right;\">\n",
       "      <th></th>\n",
       "      <th>Source</th>\n",
       "      <th>Destination</th>\n",
       "      <th>capacity</th>\n",
       "      <th>Total</th>\n",
       "    </tr>\n",
       "  </thead>\n",
       "  <tbody>\n",
       "    <tr>\n",
       "      <th>0</th>\n",
       "      <td>ORD</td>\n",
       "      <td>ATL</td>\n",
       "      <td>185</td>\n",
       "      <td>2500</td>\n",
       "    </tr>\n",
       "    <tr>\n",
       "      <th>1</th>\n",
       "      <td>BOS</td>\n",
       "      <td>ATL</td>\n",
       "      <td>185</td>\n",
       "      <td>1850</td>\n",
       "    </tr>\n",
       "    <tr>\n",
       "      <th>2</th>\n",
       "      <td>LAX</td>\n",
       "      <td>SEA</td>\n",
       "      <td>165</td>\n",
       "      <td>1624</td>\n",
       "    </tr>\n",
       "    <tr>\n",
       "      <th>3</th>\n",
       "      <td>PHX</td>\n",
       "      <td>ATL</td>\n",
       "      <td>185</td>\n",
       "      <td>1270</td>\n",
       "    </tr>\n",
       "    <tr>\n",
       "      <th>4</th>\n",
       "      <td>SFO</td>\n",
       "      <td>ATL</td>\n",
       "      <td>230</td>\n",
       "      <td>1508</td>\n",
       "    </tr>\n",
       "  </tbody>\n",
       "</table>\n",
       "</div>"
      ],
      "text/plain": [
       "  Source Destination  capacity  Total\n",
       "0    ORD         ATL       185   2500\n",
       "1    BOS         ATL       185   1850\n",
       "2    LAX         SEA       165   1624\n",
       "3    PHX         ATL       185   1270\n",
       "4    SFO         ATL       230   1508"
      ]
     },
     "execution_count": 37,
     "metadata": {},
     "output_type": "execute_result"
    }
   ],
   "source": [
    "d3_1.head()"
   ]
  },
  {
   "cell_type": "code",
   "execution_count": 54,
   "id": "526d17dd-5d95-474b-87df-d9b40dde2454",
   "metadata": {},
   "outputs": [
    {
     "data": {
      "text/html": [
       "<div>\n",
       "<style scoped>\n",
       "    .dataframe tbody tr th:only-of-type {\n",
       "        vertical-align: middle;\n",
       "    }\n",
       "\n",
       "    .dataframe tbody tr th {\n",
       "        vertical-align: top;\n",
       "    }\n",
       "\n",
       "    .dataframe thead th {\n",
       "        text-align: right;\n",
       "    }\n",
       "</style>\n",
       "<table border=\"1\" class=\"dataframe\">\n",
       "  <thead>\n",
       "    <tr style=\"text-align: right;\">\n",
       "      <th></th>\n",
       "      <th>Source</th>\n",
       "      <th>Destination</th>\n",
       "      <th>capacity</th>\n",
       "    </tr>\n",
       "  </thead>\n",
       "  <tbody>\n",
       "    <tr>\n",
       "      <th>0</th>\n",
       "      <td>ATL</td>\n",
       "      <td>BOS</td>\n",
       "      <td>2035</td>\n",
       "    </tr>\n",
       "    <tr>\n",
       "      <th>1</th>\n",
       "      <td>ATL</td>\n",
       "      <td>DEN</td>\n",
       "      <td>1440</td>\n",
       "    </tr>\n",
       "    <tr>\n",
       "      <th>2</th>\n",
       "      <td>ATL</td>\n",
       "      <td>IAD</td>\n",
       "      <td>884</td>\n",
       "    </tr>\n",
       "    <tr>\n",
       "      <th>3</th>\n",
       "      <td>ATL</td>\n",
       "      <td>JFK</td>\n",
       "      <td>1350</td>\n",
       "    </tr>\n",
       "    <tr>\n",
       "      <th>4</th>\n",
       "      <td>ATL</td>\n",
       "      <td>ORD</td>\n",
       "      <td>2235</td>\n",
       "    </tr>\n",
       "  </tbody>\n",
       "</table>\n",
       "</div>"
      ],
      "text/plain": [
       "  Source Destination  capacity\n",
       "0    ATL         BOS      2035\n",
       "1    ATL         DEN      1440\n",
       "2    ATL         IAD       884\n",
       "3    ATL         JFK      1350\n",
       "4    ATL         ORD      2235"
      ]
     },
     "execution_count": 54,
     "metadata": {},
     "output_type": "execute_result"
    }
   ],
   "source": [
    "d3_2=d3_1.groupby(['Source', 'Destination'], as_index=False)['capacity'].sum()\n",
    "d3_2.head()"
   ]
  },
  {
   "cell_type": "code",
   "execution_count": 57,
   "id": "335d4252-bb7e-4490-9716-bea0dbec7c64",
   "metadata": {},
   "outputs": [],
   "source": [
    "d3_2['capacity'] = pd.to_numeric(d3_2['capacity'], errors='coerce')"
   ]
  },
  {
   "cell_type": "code",
   "execution_count": 58,
   "id": "3d408ab1-ad93-49d3-9cec-2a22a7a417c6",
   "metadata": {},
   "outputs": [],
   "source": [
    "d3_3 = d3_2.pivot(index=\"Source\", columns=\"Destination\", values=\"capacity\").fillna(0)"
   ]
  },
  {
   "cell_type": "code",
   "execution_count": 59,
   "id": "928ee9dc-3a2a-487e-a29a-c788fb96028f",
   "metadata": {},
   "outputs": [
    {
     "data": {
      "text/html": [
       "<div>\n",
       "<style scoped>\n",
       "    .dataframe tbody tr th:only-of-type {\n",
       "        vertical-align: middle;\n",
       "    }\n",
       "\n",
       "    .dataframe tbody tr th {\n",
       "        vertical-align: top;\n",
       "    }\n",
       "\n",
       "    .dataframe thead th {\n",
       "        text-align: right;\n",
       "    }\n",
       "</style>\n",
       "<table border=\"1\" class=\"dataframe\">\n",
       "  <thead>\n",
       "    <tr style=\"text-align: right;\">\n",
       "      <th>Destination</th>\n",
       "      <th>ATL</th>\n",
       "      <th>BOS</th>\n",
       "      <th>DEN</th>\n",
       "      <th>IAD</th>\n",
       "      <th>JFK</th>\n",
       "      <th>ORD</th>\n",
       "      <th>PHX</th>\n",
       "      <th>SEA</th>\n",
       "      <th>SFO</th>\n",
       "    </tr>\n",
       "    <tr>\n",
       "      <th>Source</th>\n",
       "      <th></th>\n",
       "      <th></th>\n",
       "      <th></th>\n",
       "      <th></th>\n",
       "      <th></th>\n",
       "      <th></th>\n",
       "      <th></th>\n",
       "      <th></th>\n",
       "      <th></th>\n",
       "    </tr>\n",
       "  </thead>\n",
       "  <tbody>\n",
       "    <tr>\n",
       "      <th>ATL</th>\n",
       "      <td>0.0</td>\n",
       "      <td>2035.0</td>\n",
       "      <td>1440.0</td>\n",
       "      <td>884.0</td>\n",
       "      <td>1350.0</td>\n",
       "      <td>2235.0</td>\n",
       "      <td>1573.0</td>\n",
       "      <td>1180.0</td>\n",
       "      <td>1618.0</td>\n",
       "    </tr>\n",
       "    <tr>\n",
       "      <th>BOS</th>\n",
       "      <td>1850.0</td>\n",
       "      <td>0.0</td>\n",
       "      <td>720.0</td>\n",
       "      <td>720.0</td>\n",
       "      <td>751.0</td>\n",
       "      <td>1884.0</td>\n",
       "      <td>640.0</td>\n",
       "      <td>180.0</td>\n",
       "      <td>1380.0</td>\n",
       "    </tr>\n",
       "    <tr>\n",
       "      <th>DEN</th>\n",
       "      <td>1688.0</td>\n",
       "      <td>720.0</td>\n",
       "      <td>0.0</td>\n",
       "      <td>1080.0</td>\n",
       "      <td>360.0</td>\n",
       "      <td>2150.0</td>\n",
       "      <td>1372.0</td>\n",
       "      <td>1379.0</td>\n",
       "      <td>1790.0</td>\n",
       "    </tr>\n",
       "    <tr>\n",
       "      <th>IAD</th>\n",
       "      <td>938.0</td>\n",
       "      <td>638.0</td>\n",
       "      <td>1180.0</td>\n",
       "      <td>0.0</td>\n",
       "      <td>0.0</td>\n",
       "      <td>938.0</td>\n",
       "      <td>180.0</td>\n",
       "      <td>488.0</td>\n",
       "      <td>1130.0</td>\n",
       "    </tr>\n",
       "    <tr>\n",
       "      <th>LAX</th>\n",
       "      <td>2288.0</td>\n",
       "      <td>836.0</td>\n",
       "      <td>2072.0</td>\n",
       "      <td>520.0</td>\n",
       "      <td>2057.0</td>\n",
       "      <td>2525.0</td>\n",
       "      <td>1156.0</td>\n",
       "      <td>1624.0</td>\n",
       "      <td>3842.0</td>\n",
       "    </tr>\n",
       "  </tbody>\n",
       "</table>\n",
       "</div>"
      ],
      "text/plain": [
       "Destination     ATL     BOS     DEN     IAD     JFK     ORD     PHX     SEA  \\\n",
       "Source                                                                        \n",
       "ATL             0.0  2035.0  1440.0   884.0  1350.0  2235.0  1573.0  1180.0   \n",
       "BOS          1850.0     0.0   720.0   720.0   751.0  1884.0   640.0   180.0   \n",
       "DEN          1688.0   720.0     0.0  1080.0   360.0  2150.0  1372.0  1379.0   \n",
       "IAD           938.0   638.0  1180.0     0.0     0.0   938.0   180.0   488.0   \n",
       "LAX          2288.0   836.0  2072.0   520.0  2057.0  2525.0  1156.0  1624.0   \n",
       "\n",
       "Destination     SFO  \n",
       "Source               \n",
       "ATL          1618.0  \n",
       "BOS          1380.0  \n",
       "DEN          1790.0  \n",
       "IAD          1130.0  \n",
       "LAX          3842.0  "
      ]
     },
     "execution_count": 59,
     "metadata": {},
     "output_type": "execute_result"
    }
   ],
   "source": [
    "d3_3.head()"
   ]
  },
  {
   "cell_type": "markdown",
   "id": "378cd401",
   "metadata": {
    "tags": []
   },
   "source": [
    "## Conclusiones\n",
    "\n",
    "Ya vimos que el desempeño de nuestro algoritmo da los mismos resultados que utilizar `Networkx` como `Scipy`, en los tres pudimos obtener el mismo flujo maximo utilizando Ford Fulkerson, lo cual es bueno.\n",
    "Sabemos que ahora el reto será optimizar este algoritmo y mejorar nuestra propia paqueteria."
   ]
  },
  {
   "cell_type": "markdown",
   "id": "c1c6e478",
   "metadata": {
    "tags": []
   },
   "source": [
    "## Referencias\n",
    "* [1] [Palacios E. (2022) Libro de Optimización](https://itam-ds.github.io/analisis-numerico-computo-cientifico/4.optimizacion_en_redes_y_prog_lineal/4.2/Definiciones_generales_de_flujo_en_redes.html)\n",
    "* [2] [Dumora c. el all. Data Oriented Algorithm for Real Time Estimation of Flow Rates and Flow Directions in Water Distribution Network](https://arxiv.org/pdf/1807.10147.pdf)\n",
    "* [3] [Max Flow Problem Introduction](https://www.geeksforgeeks.org/max-flow-problem-introduction/)\n",
    "* [4] [Ford-Fulkerson Algorithm](https://www.programiz.com/dsa/ford-fulkerson-algorithm)\n",
    "* [5] [Algoritmo de Ford-Fulkerson - Ford–Fulkerson algorithm](https://upwikies.top/wiki/Ford%e2%80%93Fulkerson_algorithm)\n",
    "* [6] [Oviedo J. (2008) Algoritmo de Ford-Fulkerson Mejorado](http://www.ptolomeo.unam.mx:8080/jspui/bitstream/132.248.52.100/2387/1/gonzalezoviedo.pdf)\n",
    "* [7] [Building a Smarter (and Cheaper) School Bus System: How a Boston-MIT Partnership Led to New Routes That Are 20% More Efficient and Saved the District $5 Million](https://www.the74million.org/article/building-a-smarter-and-cheaper-school-bus-system-how-a-boston-mit-partnership-led-to-new-routes-that-are-20-more-efficient-use-400-fewer-buses-save-5-million/)\n",
    "* [8] [Optimazation examples](https://vitalflux.com/convex-optimization-explained-concepts-examples/)\n",
    "* [9] [Breadth First Search or BFS for a Graph](https://www.geeksforgeeks.org/breadth-first-search-or-bfs-for-a-graph/)"
   ]
  }
 ],
 "metadata": {
  "kernelspec": {
   "display_name": "Python 3 (ipykernel)",
   "language": "python",
   "name": "python3"
  },
  "kubeflow_notebook": {
   "autosnapshot": false,
   "docker_image": "sancas96/docker_t3:0.1",
   "experiment": {
    "id": "new",
    "name": "probando"
   },
   "experiment_name": "probando",
   "katib_metadata": {
    "algorithm": {
     "algorithmName": "grid"
    },
    "maxFailedTrialCount": 3,
    "maxTrialCount": 12,
    "objective": {
     "objectiveMetricName": "",
     "type": "minimize"
    },
    "parallelTrialCount": 3,
    "parameters": []
   },
   "katib_run": false,
   "pipeline_description": "testing_mfaeiu_v1",
   "pipeline_name": "prueba1",
   "snapshot_volumes": false,
   "steps_defaults": [],
   "volume_access_mode": "rwm",
   "volumes": []
  },
  "language_info": {
   "codemirror_mode": {
    "name": "ipython",
    "version": 3
   },
   "file_extension": ".py",
   "mimetype": "text/x-python",
   "name": "python",
   "nbconvert_exporter": "python",
   "pygments_lexer": "ipython3",
   "version": "3.8.10"
  }
 },
 "nbformat": 4,
 "nbformat_minor": 5
}
