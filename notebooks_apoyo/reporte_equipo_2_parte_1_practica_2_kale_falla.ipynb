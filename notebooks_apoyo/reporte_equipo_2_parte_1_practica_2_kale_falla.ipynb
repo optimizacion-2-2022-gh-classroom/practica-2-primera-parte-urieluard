{
 "cells": [
  {
   "cell_type": "markdown",
   "metadata": {
    "tags": []
   },
   "source": [
    "# Práctica 2 Parte 1"
   ]
  },
  {
   "cell_type": "markdown",
   "metadata": {
    "tags": []
   },
   "source": [
    "La primera parte consiste en probar el método implementado en la práctica 1 con diferentes experimentos, en este caso lo probaremos con distintas redes y hacerlo más robusto. Los ejemplos auxiliares serán utilizados para encontrar errores o áreas de oportunidad de nuestro algoritmo.\n",
    "Consideramos que el único parámetro de nuestro algoritmo es la matriz o grafo en el que trabajaremos para correr Ford-Fulkerson, ya que nuestra función lee la matriz e inmediatamente reconoce los nodos y los arcos para poder calcular el flujo máximo. Por lo que decidimos probar nuestro método con algunos grafos distintos.\n",
    "\n",
    "Para consultar la información de nuestro paquete, vea: [reporte parte 2 práctica 1](https://github.com/optimizacion-2-2022-gh-classroom/practica-1-segunda-parte-LuzVerde23/blob/main/reporte_equipo_2_parte_2_practica_1.ipynb).\n"
   ]
  },
  {
   "cell_type": "code",
   "execution_count": 2,
   "metadata": {
    "tags": [
     "imports"
    ]
   },
   "outputs": [],
   "source": [
    "import pandas as pd\n",
    "import networkx as nx\n",
    "import random\n",
    "import numpy as np\n",
    "from MaxFlowAeiu.MaxFlowAeiu import MaxFlowAeiu"
   ]
  },
  {
   "cell_type": "markdown",
   "metadata": {
    "tags": []
   },
   "source": [
    "## Ejemplo 1\n",
    "Para comenzar usaremos el ejemplo de la práctica uno"
   ]
  },
  {
   "cell_type": "code",
   "execution_count": 9,
   "metadata": {
    "tags": [
     "block:read1"
    ]
   },
   "outputs": [],
   "source": [
    "url_d = \"https://raw.githubusercontent.com/optimizacion-2-2022-gh-classroom/practica-2-primera-parte-urieluard/main/BD/d.csv\"\n",
    "d = pd.read_csv(url_d,header=None)"
   ]
  },
  {
   "cell_type": "code",
   "execution_count": 11,
   "metadata": {
    "tags": [
     "block:ls1",
     "prev:read1"
    ]
   },
   "outputs": [],
   "source": [
    "arreglo = d.to_numpy()"
   ]
  },
  {
   "cell_type": "code",
   "execution_count": 12,
   "metadata": {
    "tags": [
     "block:define1",
     "prev:ls1"
    ]
   },
   "outputs": [
    {
     "name": "stdout",
     "output_type": "stream",
     "text": [
      "CPU times: user 17 µs, sys: 0 ns, total: 17 µs\n",
      "Wall time: 21.5 µs\n"
     ]
    }
   ],
   "source": [
    "MF=MaxFlowAeiu(arreglo)"
   ]
  },
  {
   "cell_type": "code",
   "execution_count": 13,
   "metadata": {
    "tags": [
     "block:print1",
     "prev:define1"
    ]
   },
   "outputs": [
    {
     "name": "stdout",
     "output_type": "stream",
     "text": [
      "The maximum flow in this network is 1480.0\n",
      "CPU times: user 3.85 ms, sys: 803 µs, total: 4.65 ms\n",
      "Wall time: 7.68 ms\n"
     ]
    }
   ],
   "source": [
    "print(\"The maximum flow in this network is {}\".format(MF.ford_fulkerson()))"
   ]
  }
 ],
 "metadata": {
  "kernelspec": {
   "display_name": "Python 3 (ipykernel)",
   "language": "python",
   "name": "python3"
  },
  "kubeflow_notebook": {
   "autosnapshot": false,
   "docker_image": "sancas96/docker_t2:0.1",
   "experiment": {
    "id": "new",
    "name": "probando"
   },
   "experiment_name": "probando",
   "katib_metadata": {
    "algorithm": {
     "algorithmName": "grid"
    },
    "maxFailedTrialCount": 3,
    "maxTrialCount": 12,
    "objective": {
     "objectiveMetricName": "",
     "type": "minimize"
    },
    "parallelTrialCount": 3,
    "parameters": []
   },
   "katib_run": false,
   "pipeline_description": "testing_mfaeiu_v1",
   "pipeline_name": "prueba1",
   "snapshot_volumes": false,
   "steps_defaults": [],
   "volume_access_mode": "rwm",
   "volumes": []
  },
  "language_info": {
   "codemirror_mode": {
    "name": "ipython",
    "version": 3
   },
   "file_extension": ".py",
   "mimetype": "text/x-python",
   "name": "python",
   "nbconvert_exporter": "python",
   "pygments_lexer": "ipython3",
   "version": "3.8.10"
  }
 },
 "nbformat": 4,
 "nbformat_minor": 5
}
