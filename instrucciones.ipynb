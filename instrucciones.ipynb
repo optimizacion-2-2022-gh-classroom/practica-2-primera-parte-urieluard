{
 "cells": [
  {
   "cell_type": "markdown",
   "id": "b7be1b09-3267-4dc3-838c-caa075c3123c",
   "metadata": {},
   "source": [
    "El objetivo de las prácticas 1 y 2 es revisar problemas de optimización convexa* que les vayan apoyando/guiando al desarrollo de su práctica/trabajo final.\n",
    "\n",
    "\\***¿Por qué optimización convexa?**\n",
    "\n",
    "En el curso no creo que dé tiempo para que revisemos la no convexa (quizás una clase... pero ya no habrá prácticas más que la final). Si gustan pueden ir al terreno no convexo pero les sugiero lo consultemos primero si es el caso para no complicar demasiado su práctica/trabajo final.\n",
    "\n",
    "**Se utilizará la nube de AWS para esta parte y las siguientes**.\n"
   ]
  },
  {
   "cell_type": "markdown",
   "id": "204a6b32-55d5-4353-aba1-d82be808d17a",
   "metadata": {},
   "source": [
    "# Práctica 1"
   ]
  },
  {
   "cell_type": "markdown",
   "id": "9a51d72e-7cee-4a7e-a3ee-59571da4fbcd",
   "metadata": {},
   "source": [
    "**Ya entregada :)**"
   ]
  },
  {
   "cell_type": "markdown",
   "id": "871bfce3-c7ce-43bb-9d60-e231c7b70087",
   "metadata": {
    "tags": []
   },
   "source": [
    "# Práctica 2"
   ]
  },
  {
   "cell_type": "markdown",
   "id": "81b7cd1a-4a55-4adb-b8f5-b03babda5cf8",
   "metadata": {},
   "source": [
    "## Primera parte"
   ]
  },
  {
   "cell_type": "markdown",
   "id": "16a593a7-1be5-450e-8811-27edd95e4303",
   "metadata": {},
   "source": [
    "**Descripción:** experimentación, construcción de *pipelines* vía *Minikube, Kubeflow* y *Kale* y reimplementaciones del método numérico realizado en la práctica 1 que resuelva problemas de optimización convexa de pequeña escala. \n",
    "\n",
    "\n",
    "El objetivo es realizar experimentos con las herramientas de *Minikube, kubeflow* y *Kale*  para detectar con qué valores no funcionan sus programas. Cambien puntos iniciales, cambien criterios de paro, elijan diferentes ejemplos que los que utilizaron en los *tests* por ejemplo y reimplementen sus métodos que están en su paquete para mejorarlo y robustecerlo. Estos cambios de implementación deben de reflejarse automáticamente vía *Github actions* en la documentación del paquete, *tests* y en sus imágenes de *Docker*."
   ]
  },
  {
   "cell_type": "markdown",
   "id": "17412be9-b757-4fd4-8be4-ab139dfba232",
   "metadata": {},
   "source": [
    "## ¿Qué hay que entregar/mostrar?"
   ]
  },
  {
   "cell_type": "markdown",
   "id": "3fb98426-7258-4841-9405-cb90a8fc3531",
   "metadata": {},
   "source": [
    "*Notebooks taggeados* para lanzamientos de *pipelines* con *Minikube, kubeflow y Kale*.\n",
    "\n",
    "* Descripción de los parámetros que existen en su problema de optimización y en su método numérico.\n",
    "\n",
    "* Tabla con las corridas con los diferentes parámetros, sus resultados y las fechas de lanzamiento.\n"
   ]
  },
  {
   "cell_type": "markdown",
   "id": "7d51cf84-425a-4753-906a-06e0a7d87ff2",
   "metadata": {},
   "source": [
    "En la práctica 1 se realizaron las configuraciones necesarias para la construcción automática de *tests*, documentación de su paquete e imagen de *Docker* con *Github actions*. Hay que reutilizar lo realizado en esa práctica 1 (mejorar si es necesario) para construir una imagen de *Docker* que tenga su paquete desarrollado en tal práctica instalado así como lo necesario para ejecutarlo (paqueterías, datos, ...). Esta imagen de *Docker* llámenla diferente que la que hicieron en la práctica 1. Ver [minikube_kubeflow_kale_examples: reference_notebooks/kale](https://github.com/palmoreck/minikube_kubeflow_kale_examples/tree/main/reference_notebooks/kale) y [palmoreck/kale_opt:0.1](https://github.com/palmoreck/dockerfiles/blob/master/jupyterlab/kale/opt/0.1/Dockerfile) para guía. Utilicen en su *Dockerfile* la línea *FROM palmoreck/kale_certs:0.6.1* para que ya traiga el paquete *Kubeflow-Kale* instalado y ya sólo instalen su paquete y lo necesario tomando como base `palmoreck/kale_certs:0.6.1`.\n"
   ]
  },
  {
   "cell_type": "markdown",
   "id": "56e192b4-786d-4944-a8ef-b769756e3c07",
   "metadata": {},
   "source": [
    "**Cambien el *password* configurado en `palmoreck/kale_certs:0.6.1` para acceder al *Jupyterlab*, ver [Preparing a hashed password](https://jupyter-notebook.readthedocs.io/en/stable/public_server.html#preparing-a-hashed-password) y [ejemplo](https://github.com/palmoreck/dockerfiles/blob/master/jupyterlab/optimizacion_2/3.2.8/Dockerfile#L37). La construcción y subida (*build & push*) a su cuenta de *DockerHub* designada se realiza de forma automática con una *Github action*. Las reimplementaciones de su paquete deben actualizar su imagen de *Docker* de la práctica 1 con una *Github action***."
   ]
  },
  {
   "cell_type": "markdown",
   "id": "5fcf10fd-49e3-4d32-a579-8fe50366c890",
   "metadata": {},
   "source": [
    "Actualicen la documentación de su paquete indicando que existen imágenes de *Docker* que ayudan a utilizar su paquete (sin y con *Kale*). Esto se ejecuta de forma automática con una *Github action*.\n",
    "\n",
    "Las reimplementaciones de su método numérico deben pasar los *tests* que realizaron en la práctica 1. Además añadan nuevos *tests* de acuerdo a la dinámica detallada del `README.md` de este repo. Los *tests* se ejecutan de forma automática con una *Github action*. "
   ]
  },
  {
   "cell_type": "markdown",
   "id": "305c3f9a-d191-4166-8104-1f48ae688138",
   "metadata": {},
   "source": [
    "Continúen colcando su botón de *binder* en su `README.md`."
   ]
  },
  {
   "cell_type": "markdown",
   "id": "f940f931-1d53-4998-bde9-8b560582eb7e",
   "metadata": {},
   "source": [
    "## Notas aclaratorias"
   ]
  },
  {
   "cell_type": "markdown",
   "id": "7d7eb7b1-77f4-4f84-93cf-6f4b5bfea782",
   "metadata": {},
   "source": [
    "**De su práctica 1 deben utilizar los tres archivos `.yml` que crearon para uso de *Github actions*: el que automáticamente actualiza la documentación de su paquete, el que automáticamente construye la imagen de *Docker* y la sube a su cuenta de *DockerHub*, el que automáticamente realiza *testing* para cambios en su paquete.** Adicionalmente se tendrá una *Github Action* para creación y subida de su imagen de *Docker* que utilizan en la identificación de celdas de *Jupyter notebooks* vía *Kale* y monitoreo con *Kubeflow*."
   ]
  },
  {
   "cell_type": "markdown",
   "id": "91fa0656-114e-4dfc-a8de-32d71cce9925",
   "metadata": {},
   "source": [
    "## Segunda parte"
   ]
  },
  {
   "cell_type": "markdown",
   "id": "18aaec08-9c21-4ede-a846-3b3aad0be66f",
   "metadata": {},
   "source": [
    "Reimplementar su método numérico realizado en la práctica 1 con niveles de BLAS, cómputo en paralelo (CPU/GPU), con compilación a C (por ejemplo vía [cython](https://cython.org/), [rcpp](http://www.rcpp.org/)) o [julia](https://julialang.org/).\n",
    "\n",
    "Para realizar la reimplementación anterior a continuación coloco una lista de paquetes que les apoyarán (no es exhaustiva). Piensen por ejemplo que el método símplex y el método primal-dual requieren de resolver sistemas de ecuaciones lineales para resolver los problemas de optimización, entonces podrán usar algún paquete de cómputo en paralelo para resolver tal sistema."
   ]
  },
  {
   "cell_type": "markdown",
   "id": "ce061a5d-0d88-4f47-ba9b-fe193dcc2ff2",
   "metadata": {},
   "source": [
    "* [pytorch](https://github.com/pytorch/pytorch)\n",
    "\n",
    "* [gpuR](https://github.com/cdeterman/gpuR)\n",
    "\n",
    "* [gputools](https://rdrr.io/cran/gputools/)\n",
    "\n",
    "* [Rth-org/Rth](https://github.com/Rth-org/Rth) y más reciente [matloff/Rth](https://github.com/matloff/Rth)\n",
    "\n",
    "* [Theano](https://github.com/Theano/Theano), [pymc3](https://github.com/pymc-devs/pymc3)\n",
    "\n",
    "* [PyCUDA](https://github.com/inducer/pycuda)\n",
    "\n",
    "* [CuPy](https://github.com/cupy/cupy)\n",
    "\n",
    "* [dask](https://github.com/dask/dask)\n",
    "\n",
    "* [dask CUDA](https://github.com/rapidsai/dask-cuda), [Rapids](https://rapids.ai/)\n",
    "\n",
    "* [multiprocessing](https://docs.python.org/3.1/library/multiprocessing.html)\n",
    "\n",
    "* [joblib](https://joblib.readthedocs.io/en/latest/)\n",
    "\n",
    "* [openMP](http://www.openmp.org/)\n",
    "\n",
    "* [parallel](https://www.rdocumentation.org/packages/parallel/versions/3.6.2)\n",
    "\n",
    "* [foreach](https://www.rdocumentation.org/packages/foreach/versions/1.4.7/topics/foreach)\n",
    "\n",
    "* [CUDA-C](https://docs.nvidia.com/cuda/cuda-c-programming-guide/index.html)\n",
    "\n",
    "* [tensorflow](https://github.com/tensorflow)\n",
    "\n",
    "* [keras](https://github.com/keras-team/keras)\n",
    "\n",
    "* [caffe](https://github.com/BVLC/caffe)\n",
    "\n",
    "* [mxnet](https://github.com/apache/incubator-mxnet)\n"
   ]
  },
  {
   "cell_type": "markdown",
   "id": "8a3dca44-450a-4a5b-a3f5-b6f310ea5570",
   "metadata": {
    "tags": []
   },
   "source": [
    "# Notas para la práctica/trabajo final"
   ]
  },
  {
   "cell_type": "markdown",
   "id": "46cfd756-40f1-49e2-b46d-efba5a1939c5",
   "metadata": {},
   "source": [
    "Es **muy importante** en cualquier dataset, paquete de software o problema de optimización que elijan para su práctica/trabajo final, se estudie **muy bien** lo siguiente:\n",
    "\n",
    "* ¿Qué características tiene el problema de optimización?\n",
    "\n",
    "* ¿Qué tipo de problema de optimización es?\n",
    "\n",
    "* Entendimiento del método de optimización utilizado (vía una implementación por ejemplo)\n",
    "\n",
    "* ¿Qué métodos existen para resolver el problema de optimización?\n",
    "\n",
    "* ¿Cómo están resolviendo los métodos el problema de optimización?\n",
    "\n"
   ]
  }
 ],
 "metadata": {
  "kernelspec": {
   "display_name": "Python 3 (ipykernel)",
   "language": "python",
   "name": "python3"
  },
  "language_info": {
   "codemirror_mode": {
    "name": "ipython",
    "version": 3
   },
   "file_extension": ".py",
   "mimetype": "text/x-python",
   "name": "python",
   "nbconvert_exporter": "python",
   "pygments_lexer": "ipython3",
   "version": "3.8.10"
  }
 },
 "nbformat": 4,
 "nbformat_minor": 5
}
